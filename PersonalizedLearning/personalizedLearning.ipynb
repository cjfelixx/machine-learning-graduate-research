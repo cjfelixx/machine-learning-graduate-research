{
 "cells": [
  {
   "cell_type": "markdown",
   "id": "79131048-295d-49df-b2d5-89a599597d05",
   "metadata": {},
   "source": [
    "## Collaborative/Personalized Learning"
   ]
  },
  {
   "cell_type": "code",
   "execution_count": 1,
   "id": "a6eceb3f-4d62-4c1a-8505-4a0b119eff64",
   "metadata": {
    "tags": []
   },
   "outputs": [],
   "source": [
    "%matplotlib inline\n",
    "import sys\n",
    "import os\n",
    "helpers_path = os.path.abspath('../')\n",
    "if helpers_path not in sys.path:\n",
    "    sys.path.append(helpers_path)\n",
    "\n",
    "import numpy as np\n",
    "import matplotlib.pyplot as plt\n",
    "from tqdm import tqdm\n",
    "from utils import Kernel\n",
    "\n",
    "from online_kernels.klms import KLMS\n",
    "from online_kernels.knlms import KNLMS\n",
    "from online_kernels.krls import KRLS\n",
    "from online_kernels.klmsRFF import klms_rff\n",
    "from online_kernels.knlmsRFF import knlms_rff\n",
    "from online_kernels.krlsRFF import krls_rff\n",
    "\n",
    "from data.datasets import load_dodd\n",
    "from sklearn.utils import shuffle"
   ]
  },
  {
   "cell_type": "code",
   "execution_count": 26,
   "id": "4af09356-53ad-4be7-9bb8-028b7ff24f72",
   "metadata": {},
   "outputs": [
    {
     "name": "stderr",
     "output_type": "stream",
     "text": [
      "100%|████████████████████████████████████████████| 5/5 [00:00<00:00, 172.58it/s]"
     ]
    },
    {
     "name": "stdout",
     "output_type": "stream",
     "text": [
      "[[ 6.82395807e+01 -1.36553639e+04  2.82347593e+07  2.26400458e+06\n",
      "  -1.97940902e+08  1.88697469e+03  8.92357651e-01 -4.22135024e+13\n",
      "  -4.41854373e+06  8.99899747e+02]\n",
      " [ 6.70904452e+05 -1.32941256e+08  2.34030060e+10 -1.05087497e+11\n",
      "   1.77967203e+13  9.77689613e+07  1.89911314e+04  6.28254285e+21\n",
      "  -4.09642497e+11 -2.12715651e+07]\n",
      " [ 1.81450733e+06 -6.66090404e+07  6.48152669e+10  3.74815175e+12\n",
      "   2.76030765e+13  2.12225797e+06 -1.37699534e+05  1.75496937e+21\n",
      "  -1.89972601e+13 -2.93235059e+05]]\n"
     ]
    },
    {
     "name": "stderr",
     "output_type": "stream",
     "text": [
      "\n"
     ]
    }
   ],
   "source": [
    "iteration = 5\n",
    "# Kernel Dictionary size\n",
    "D = 200\n",
    "step_size = 0.8\n",
    "KLMS_RFF = klms_rff(step_size,D)\n",
    "num_data=300\n",
    "# N individuals\n",
    "N = 10\n",
    "\n",
    "# L canonical models\n",
    "L = 3\n",
    "\n",
    "num_experiments = 1\n",
    "C = np.ones((L,N))\n",
    "A = np.zeros((D,L))\n",
    "u,d,d_true = load_dodd(num_data)\n",
    "kernel = Kernel(3.73)\n",
    "sigma = 1/np.sqrt(2*kernel.sigma)\n",
    "W = (1/sigma) * np.random.normal(size=(2,D))\n",
    "b = np.random.uniform(0,2*np.pi,(D,1))\n",
    "h = np.sqrt(2/D) * np.cos(W.T @ u.T + b)\n",
    "K = []\n",
    "Y = []\n",
    "for epoch in tqdm(range(iteration)):\n",
    "\n",
    "    # Learning A gived fixed Cs (Least Squares)\n",
    "    B = np.zeros((D,N))\n",
    "    m = 0\n",
    "    for i in range(N):\n",
    "        m_i = np.random.randint(1,10)\n",
    "        m += m_i\n",
    "        K_i = np.zeros((D,m_i))\n",
    "        Y_i = np.zeros((m_i,))\n",
    "        c_i = C.T[i]\n",
    "        for samples in range(m_i):\n",
    "            v = np.random.randint(len(d))\n",
    "            h_n = h[:,v].reshape((D,1))\n",
    "            d_n = np.array([d[v]])\n",
    "            K_i.T[samples] = h_n.reshape((D,))\n",
    "            Y_i[samples] = d_n\n",
    "            if samples > 0:\n",
    "                alpha_in = alpha_out\n",
    "            else:\n",
    "                alpha_in = (A @ c_i).reshape((D,1))\n",
    "            _,alpha_out = KLMS_RFF.train(h_n,d_n,alpha_in)\n",
    "#             print('alpha',alpha_out)\n",
    "        K.append(K_i)\n",
    "        Y.append(Y_i)\n",
    "    #     Y_i_hat = K_i.T @ A @ c_i\n",
    "\n",
    "        B.T[i] = alpha_out.reshape((D,))\n",
    "    A_hat,_,_,_ = np.linalg.lstsq(C.T, B.T,rcond=None) \n",
    "    A = A_hat.T\n",
    "#     print(A)\n",
    "    # Learning C given the A are fixed\n",
    "    for i in range(N):\n",
    "        y_i = Y[i]\n",
    "        K_i = K[i]\n",
    "        c_i = C.T[i]\n",
    "        AK = A.T @ K_i\n",
    "        AKy = AK @ y_i\n",
    "        AKKAc = AK @ AK.T @ c_i\n",
    "        for k in range(L):\n",
    "            C[k][i] = C[k][i]*((AKy[k] + (AKKAc @ c_i) )/(AKKAc[k] + AKy @ c_i))\n",
    "print(C)"
   ]
  },
  {
   "cell_type": "code",
   "execution_count": 14,
   "id": "0c1e31fb-0cb0-46e8-86be-961211fd762a",
   "metadata": {
    "collapsed": true,
    "jupyter": {
     "outputs_hidden": true,
     "source_hidden": true
    },
    "tags": []
   },
   "outputs": [
    {
     "name": "stderr",
     "output_type": "stream",
     "text": [
      "100%|███████████████████████████████████████████| 1/1 [00:00<00:00, 2799.94it/s]\n"
     ]
    }
   ],
   "source": [
    "iteration = 1\n",
    "# N individuals\n",
    "N = 10\n",
    "# p features\n",
    "p = 2\n",
    "# K canonical models (personalized learning systems)\n",
    "K = 5\n",
    "# L \n",
    "L = 3\n",
    "# Kernel Dictionary size\n",
    "D = 50\n",
    "num_experiments = 1\n",
    "C = np.ones((K,N))\n",
    "A = np.zeros((D,K))\n",
    "# u,d,d_true = load_dodd(num_data)\n",
    "\n",
    "# W = (1/sigma) * np.random.normal(size=(2,D))\n",
    "# b = np.random.uniform(0,2*np.pi,(D,1))\n",
    "# h = np.sqrt(2/D) * np.cos(W.T @ u.T + b)\n",
    "\n",
    "for i in tqdm(range(iteration)):\n",
    "#     v = np.random.randint(len(d))\n",
    "    \n",
    "    for edge in range(N):\n",
    "        # Learning A gived fixed Cs (Least Squares)  \n",
    "            # Convert c to C\n",
    "        C_i = np.append(C.T[edge],np.zeros((K*(p-1))))\n",
    "        for k in range(p-1):\n",
    "            C_i = np.vstack((C_i,np.roll(np.append(C.T[edge],np.zeros((K*(p-1)))),K*(k+1))))\n",
    "\n",
    "        # Learn C given the A are fixed (Difficult)\n",
    "        # This is an iteration process (nonconvex)\n",
    "\n",
    "\n",
    "\n",
    "        # Calculate a\n",
    "\n",
    "        # Convert a to A\n",
    "\n",
    "        # Calculate C\n",
    "        C = "
   ]
  },
  {
   "cell_type": "code",
   "execution_count": 69,
   "id": "7ff33651-fb52-4dc3-b4a8-f09e07a4a925",
   "metadata": {},
   "outputs": [
    {
     "data": {
      "text/plain": [
       "(4, 10)"
      ]
     },
     "execution_count": 69,
     "metadata": {},
     "output_type": "execute_result"
    }
   ],
   "source": [
    "C.shape"
   ]
  },
  {
   "cell_type": "code",
   "execution_count": null,
   "id": "955505db-e82a-4cf6-939c-0f81c0e13d30",
   "metadata": {},
   "outputs": [],
   "source": []
  }
 ],
 "metadata": {
  "kernelspec": {
   "display_name": "Python 3 (ipykernel)",
   "language": "python",
   "name": "python3"
  },
  "language_info": {
   "codemirror_mode": {
    "name": "ipython",
    "version": 3
   },
   "file_extension": ".py",
   "mimetype": "text/x-python",
   "name": "python",
   "nbconvert_exporter": "python",
   "pygments_lexer": "ipython3",
   "version": "3.9.1"
  }
 },
 "nbformat": 4,
 "nbformat_minor": 5
}
