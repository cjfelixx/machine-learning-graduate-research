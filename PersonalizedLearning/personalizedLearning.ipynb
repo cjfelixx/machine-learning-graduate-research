{
 "cells": [
  {
   "cell_type": "markdown",
   "id": "79131048-295d-49df-b2d5-89a599597d05",
   "metadata": {},
   "source": [
    "## Collaborative/Personalized Learning"
   ]
  },
  {
   "cell_type": "code",
   "execution_count": 1,
   "id": "a6eceb3f-4d62-4c1a-8505-4a0b119eff64",
   "metadata": {
    "tags": []
   },
   "outputs": [],
   "source": [
    "%matplotlib inline\n",
    "import sys\n",
    "import os\n",
    "helpers_path = os.path.abspath('../')\n",
    "if helpers_path not in sys.path:\n",
    "    sys.path.append(helpers_path)\n",
    "\n",
    "import numpy as np\n",
    "import matplotlib.pyplot as plt\n",
    "from tqdm import tqdm\n",
    "from utils import Kernel\n",
    "\n",
    "from online_kernels.klms import KLMS\n",
    "from online_kernels.knlms import KNLMS\n",
    "from online_kernels.krls import KRLS\n",
    "from online_kernels.klmsRFF import klms_rff\n",
    "from online_kernels.knlmsRFF import knlms_rff\n",
    "from online_kernels.krlsRFF import krls_rff\n",
    "\n",
    "from data.datasets import load_dodd\n",
    "from sklearn.utils import shuffle\n",
    "from scipy.optimize import nnls\n",
    "\n",
    "import cvxpy as cp"
   ]
  },
  {
   "cell_type": "code",
   "execution_count": 30,
   "id": "4af09356-53ad-4be7-9bb8-028b7ff24f72",
   "metadata": {},
   "outputs": [
    {
     "name": "stderr",
     "output_type": "stream",
     "text": [
      "100%|███████████████████████████████████████████| 10/10 [00:01<00:00,  9.09it/s]\n"
     ]
    },
    {
     "data": {
      "text/plain": [
       "Text(0.5, 0, 'iteration')"
      ]
     },
     "execution_count": 30,
     "metadata": {},
     "output_type": "execute_result"
    },
    {
     "data": {
      "image/png": "[encoded data removed]",
      "text/plain": [
       "<Figure size 1440x432 with 1 Axes>"
      ]
     },
     "metadata": {
      "needs_background": "light"
     },
     "output_type": "display_data"
    }
   ],
   "source": [
    "iteration = 10\n",
    "mse = np.zeros(iteration)\n",
    "# Kernel Dictionary size\n",
    "\n",
    "step_size = 0.9\n",
    "num_data=3000\n",
    "num_experiments = 10\n",
    "amse = np.zeros(iteration)\n",
    "kernel = Kernel(3.73)\n",
    "# N individuals\n",
    "N = 20 # mFea\n",
    "# L canonical models\n",
    "L = 10 # k\n",
    "D = 100 # p\n",
    "KLMS_RFF = klms_rff(step_size,D)\n",
    "for epoch in tqdm(range(num_experiments)):\n",
    "    A = np.random.rand(D,L) # B\n",
    "    C = np.random.rand(L,N) # membership weight matrix W\n",
    "#     A = np.zeros((D,L))\n",
    "#     C = np.zeros((L,N))    \n",
    "    u,d,d_true = load_dodd(num_data)\n",
    "\n",
    "    sigma = 1/np.sqrt(2*kernel.sigma)\n",
    "    W = (1/sigma) * np.random.normal(size=(2,D))\n",
    "    b = np.random.uniform(0,2*np.pi,(D,1))\n",
    "    h = np.sqrt(2/D) * np.cos(W.T @ u.T + b)\n",
    "    K = []\n",
    "\n",
    "    for n in range(iteration):\n",
    "\n",
    "        Y_hat = []\n",
    "        Y = []\n",
    "        err = 0\n",
    "        # Learning A gived fixed Cs (Least Squares)\n",
    "        B = np.zeros((D,N))\n",
    "        m = 0\n",
    "        for i in range(N):\n",
    "    #         m_i = np.random.randint(1,20)  # nSmp\n",
    "            m_i = 10\n",
    "            m += m_i\n",
    "            K_i = np.zeros((D,m_i))\n",
    "            Y_i = np.zeros((m_i,))\n",
    "            c_i = C.T[i]\n",
    "            for samples in range(m_i):\n",
    "                v = np.random.randint(len(d))\n",
    "                h_n = h[:,v].reshape((D,1))\n",
    "                d_n = np.array([d[v]])\n",
    "                K_i.T[samples] = h_n.reshape((D,))\n",
    "                Y_i[samples] = d_n\n",
    "                if samples > 0:\n",
    "                    alpha_in = alpha_out\n",
    "                else:\n",
    "                    alpha_in = (A @ c_i).reshape((D,1))\n",
    "                _,alpha_out = KLMS_RFF.train(h_n,d_n,alpha_in)\n",
    "\n",
    "            K.append(K_i)\n",
    "            Y.append(Y_i)\n",
    "\n",
    "            B.T[i] = alpha_out.reshape((D,))\n",
    "    #         XX = np.zeros((D,L))\n",
    "    #         XY = np.zeros(D*L,)\n",
    "    #         X = []\n",
    "    #         for i in range(N):\n",
    "    #             for j in range(m_i):\n",
    "    #                 r = []\n",
    "    #                 for v in range(D):\n",
    "    #                     print(i,j,v)\n",
    "    #                     r.append(K[i][v][j] * C.T[i])\n",
    "    #                 X.append(r)\n",
    "\n",
    "    # Least squares ||B - AC||^2\n",
    "        A = B.dot(np.linalg.pinv(C))\n",
    "    #     A_hat,_,_,_ = np.linalg.lstsq(C.T, B.T,rcond=None)\n",
    "    #     A = A_hat.T\n",
    "\n",
    "    # CXVPY approach: Not working\n",
    "    #     A_hat = cp.Variable((D,L))\n",
    "    #     obj = cp.sum([cp.sum_squares(Y[i] - K[i].T @ A_hat @ C.T[i]) for i in range(N)])\n",
    "    #     constraints = [K[i].T@ A_hat >=0 for i in range(N)]\n",
    "    #     prob = cp.Problem(cp.Minimize(obj),constraints)\n",
    "    #     prob.solve()\n",
    "    #     A = A_hat.value\n",
    "\n",
    "        # Learning C given the A are fixed\n",
    "        for i in range(N):\n",
    "            y_i = Y[i]\n",
    "            AK = A.T @ K[i]\n",
    "            AKy = AK @ y_i\n",
    "            AKKAc = AK @ AK.T @ C.T[i]\n",
    "            for k in range(L):\n",
    "                C[k][i] = np.multiply(C[k][i],np.divide(AKy[k],AKKAc[k]))\n",
    "\n",
    "            Y_hat.append(K[i].T @ A @ C.T[i])  \n",
    "            err+=np.sqrt(np.mean(np.square(Y[i] - Y_hat[i]))/N)\n",
    "\n",
    "        mse[n] = err\n",
    "    amse += mse/num_experiments\n",
    "plt.figure(figsize=(2*10, 6))\n",
    "plt.semilogy(range(len(amse)),amse,label=\"KLMS\")\n",
    "plt.legend()\n",
    "# plt.ylim([1e-2,1e0])\n",
    "# plt.xlim([0,1000])\n",
    "plt.ylabel(\"MSE\")\n",
    "plt.xlabel(\"iteration\")"
   ]
  },
  {
   "cell_type": "code",
   "execution_count": 216,
   "id": "b74280d0-3282-4384-b5e3-72de90fae270",
   "metadata": {},
   "outputs": [
    {
     "name": "stdout",
     "output_type": "stream",
     "text": [
      "2000\n"
     ]
    }
   ],
   "source": [
    "print(len(K))"
   ]
  },
  {
   "cell_type": "code",
   "execution_count": null,
   "id": "25c371e9-6b1e-4b40-b99a-047c9aa5859b",
   "metadata": {},
   "outputs": [],
   "source": []
  }
 ],
 "metadata": {
  "kernelspec": {
   "display_name": "Python 3 (ipykernel)",
   "language": "python",
   "name": "python3"
  },
  "language_info": {
   "codemirror_mode": {
    "name": "ipython",
    "version": 3
   },
   "file_extension": ".py",
   "mimetype": "text/x-python",
   "name": "python",
   "nbconvert_exporter": "python",
   "pygments_lexer": "ipython3",
   "version": "3.9.7"
  }
 },
 "nbformat": 4,
 "nbformat_minor": 5
}
