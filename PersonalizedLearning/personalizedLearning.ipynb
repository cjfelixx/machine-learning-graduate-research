{
 "cells": [
  {
   "cell_type": "markdown",
   "id": "79131048-295d-49df-b2d5-89a599597d05",
   "metadata": {},
   "source": [
    "## Collaborative/Personalized Learning"
   ]
  },
  {
   "cell_type": "code",
   "execution_count": 1,
   "id": "a6eceb3f-4d62-4c1a-8505-4a0b119eff64",
   "metadata": {},
   "outputs": [],
   "source": [
    "%matplotlib inline\n",
    "import sys\n",
    "import os\n",
    "helpers_path = os.path.abspath('../')\n",
    "if helpers_path not in sys.path:\n",
    "    sys.path.append(helpers_path)\n",
    "\n",
    "import numpy as np\n",
    "import matplotlib.pyplot as plt\n",
    "from tqdm import tqdm\n",
    "from utils import Kernel\n",
    "\n",
    "from online_kernels.klms import KLMS\n",
    "from online_kernels.knlms import KNLMS\n",
    "from online_kernels.krls import KRLS\n",
    "from online_kernels.klmsRFF import klms_rff\n",
    "from online_kernels.knlmsRFF import knlms_rff\n",
    "from online_kernels.krlsRFF import krls_rff\n",
    "\n",
    "from data.datasets import load_dodd\n",
    "from sklearn.utils import shuffle"
   ]
  },
  {
   "cell_type": "code",
   "execution_count": 92,
   "id": "4af09356-53ad-4be7-9bb8-028b7ff24f72",
   "metadata": {},
   "outputs": [
    {
     "name": "stderr",
     "output_type": "stream",
     "text": [
      "100%|████████████████████████████████████████████| 1/1 [00:00<00:00, 625.08it/s]"
     ]
    },
    {
     "name": "stdout",
     "output_type": "stream",
     "text": [
      "(50, 4)\n",
      "(4, 50)\n",
      "(50, 4)\n"
     ]
    },
    {
     "name": "stderr",
     "output_type": "stream",
     "text": [
      "\n"
     ]
    }
   ],
   "source": [
    "iteration = 1\n",
    "# Kernel Dictionary size\n",
    "D = 50\n",
    "step_size = 0.8\n",
    "KLMS_RFF = klms_rff(step_size,D)\n",
    "num_data=300\n",
    "# N individuals\n",
    "N = 10\n",
    "# p features\n",
    "p = 2\n",
    "# K canonical models\n",
    "K = 4\n",
    "# L \n",
    "L = 3\n",
    "\n",
    "num_experiments = 1\n",
    "C = np.ones((K,N))\n",
    "A = np.zeros((D,K))\n",
    "u,d,d_true = load_dodd(num_data)\n",
    "kernel = Kernel(3.73)\n",
    "sigma = 1/np.sqrt(2*kernel.sigma)\n",
    "W = (1/sigma) * np.random.normal(size=(2,D))\n",
    "b = np.random.uniform(0,2*np.pi,(D,1))\n",
    "h = np.sqrt(2/D) * np.cos(W.T @ u.T + b)\n",
    "\n",
    "for i in tqdm(range(iteration)):\n",
    "#     v = np.random.randint(len(d))\n",
    "    B = np.zeros((D,N))\n",
    "    # Learning A gived fixed Cs (Least Squares)  \n",
    "    for n in range(N):\n",
    "        v = np.random.randint(len(d))\n",
    "        h_n = h[:,v].reshape((D,1))\n",
    "        d_n = np.array([d[v]])\n",
    "#         alpha_in = (A@C.T[n]).reshape\n",
    "        _,alpha_out = KLMS_RFF.train(h_n,d_n,(A@C.T[n]).reshape((D,1)))\n",
    "        B.T[n] = alpha_out.reshape((D,))\n",
    "    \n",
    "    print(A.shape)\n",
    "    \n",
    "    A_hat,_,_,_ = np.linalg.lstsq(C.T, B.T,rcond=None) \n",
    "    A = A_hat.T\n",
    "    \n",
    "    # Learning C given the A are fixed (Difficult)\n",
    "    # This is an iteration process (nonconvex)\n",
    "    # Hint: maybe work in the dual space and derive the Lagrangian optimization \n",
    "    C = "
   ]
  },
  {
   "cell_type": "code",
   "execution_count": 14,
   "id": "0c1e31fb-0cb0-46e8-86be-961211fd762a",
   "metadata": {
    "jupyter": {
     "source_hidden": true
    },
    "tags": []
   },
   "outputs": [
    {
     "name": "stderr",
     "output_type": "stream",
     "text": [
      "100%|███████████████████████████████████████████| 1/1 [00:00<00:00, 2799.94it/s]\n"
     ]
    }
   ],
   "source": [
    "iteration = 1\n",
    "# N individuals\n",
    "N = 10\n",
    "# p features\n",
    "p = 2\n",
    "# K canonical models (personalized learning systems)\n",
    "K = 5\n",
    "# L \n",
    "L = 3\n",
    "# Kernel Dictionary size\n",
    "D = 50\n",
    "num_experiments = 1\n",
    "C = np.ones((K,N))\n",
    "A = np.zeros((D,K))\n",
    "# u,d,d_true = load_dodd(num_data)\n",
    "\n",
    "# W = (1/sigma) * np.random.normal(size=(2,D))\n",
    "# b = np.random.uniform(0,2*np.pi,(D,1))\n",
    "# h = np.sqrt(2/D) * np.cos(W.T @ u.T + b)\n",
    "\n",
    "for i in tqdm(range(iteration)):\n",
    "#     v = np.random.randint(len(d))\n",
    "    \n",
    "    for edge in range(N):\n",
    "        # Learning A gived fixed Cs (Least Squares)  \n",
    "            # Convert c to C\n",
    "        C_i = np.append(C.T[edge],np.zeros((K*(p-1))))\n",
    "        for k in range(p-1):\n",
    "            C_i = np.vstack((C_i,np.roll(np.append(C.T[edge],np.zeros((K*(p-1)))),K*(k+1))))\n",
    "\n",
    "        # Learn C given the A are fixed (Difficult)\n",
    "        # This is an iteration process (nonconvex)\n",
    "\n",
    "\n",
    "\n",
    "        # Calculate a\n",
    "\n",
    "        # Convert a to A\n",
    "\n",
    "        # Calculate C\n",
    "        C = "
   ]
  },
  {
   "cell_type": "code",
   "execution_count": 48,
   "id": "f1bcaf66-bd97-4b36-a96c-d985d62698ee",
   "metadata": {},
   "outputs": [
    {
     "data": {
      "text/plain": [
       "(50, 4)"
      ]
     },
     "execution_count": 48,
     "metadata": {},
     "output_type": "execute_result"
    }
   ],
   "source": [
    "B = np.zeros((D,K))\n",
    "B.T[0] = np.ones((50,)"
   ]
  },
  {
   "cell_type": "code",
   "execution_count": 59,
   "id": "79860a07-26f8-4d18-8a0d-ab6d2a6ba46d",
   "metadata": {},
   "outputs": [
    {
     "data": {
      "text/plain": [
       "(50,)"
      ]
     },
     "execution_count": 59,
     "metadata": {},
     "output_type": "execute_result"
    }
   ],
   "source": [
    "(A@C.T[0]).shape"
   ]
  },
  {
   "cell_type": "code",
   "execution_count": 68,
   "id": "3a5aa6b6-14c1-4253-827b-f5bb775363aa",
   "metadata": {},
   "outputs": [
    {
     "ename": "LinAlgError",
     "evalue": "Singular matrix",
     "output_type": "error",
     "traceback": [
      "\u001b[0;31m---------------------------------------------------------------------------\u001b[0m",
      "\u001b[0;31mLinAlgError\u001b[0m                               Traceback (most recent call last)",
      "\u001b[0;32m/var/folders/jw/wg30js3108n731h_w_zpf3zw0000gn/T/ipykernel_2353/1406119736.py\u001b[0m in \u001b[0;36m<module>\u001b[0;34m\u001b[0m\n\u001b[0;32m----> 1\u001b[0;31m \u001b[0mnp\u001b[0m\u001b[0;34m.\u001b[0m\u001b[0mlinalg\u001b[0m\u001b[0;34m.\u001b[0m\u001b[0minv\u001b[0m\u001b[0;34m(\u001b[0m\u001b[0mC\u001b[0m\u001b[0;34m.\u001b[0m\u001b[0mT\u001b[0m\u001b[0;34m@\u001b[0m\u001b[0mC\u001b[0m\u001b[0;34m)\u001b[0m\u001b[0;34m\u001b[0m\u001b[0;34m\u001b[0m\u001b[0m\n\u001b[0m",
      "\u001b[0;32m<__array_function__ internals>\u001b[0m in \u001b[0;36minv\u001b[0;34m(*args, **kwargs)\u001b[0m\n",
      "\u001b[0;32m~/miniconda3/lib/python3.9/site-packages/numpy/linalg/linalg.py\u001b[0m in \u001b[0;36minv\u001b[0;34m(a)\u001b[0m\n\u001b[1;32m    543\u001b[0m     \u001b[0msignature\u001b[0m \u001b[0;34m=\u001b[0m \u001b[0;34m'D->D'\u001b[0m \u001b[0;32mif\u001b[0m \u001b[0misComplexType\u001b[0m\u001b[0;34m(\u001b[0m\u001b[0mt\u001b[0m\u001b[0;34m)\u001b[0m \u001b[0;32melse\u001b[0m \u001b[0;34m'd->d'\u001b[0m\u001b[0;34m\u001b[0m\u001b[0;34m\u001b[0m\u001b[0m\n\u001b[1;32m    544\u001b[0m     \u001b[0mextobj\u001b[0m \u001b[0;34m=\u001b[0m \u001b[0mget_linalg_error_extobj\u001b[0m\u001b[0;34m(\u001b[0m\u001b[0m_raise_linalgerror_singular\u001b[0m\u001b[0;34m)\u001b[0m\u001b[0;34m\u001b[0m\u001b[0;34m\u001b[0m\u001b[0m\n\u001b[0;32m--> 545\u001b[0;31m     \u001b[0mainv\u001b[0m \u001b[0;34m=\u001b[0m \u001b[0m_umath_linalg\u001b[0m\u001b[0;34m.\u001b[0m\u001b[0minv\u001b[0m\u001b[0;34m(\u001b[0m\u001b[0ma\u001b[0m\u001b[0;34m,\u001b[0m \u001b[0msignature\u001b[0m\u001b[0;34m=\u001b[0m\u001b[0msignature\u001b[0m\u001b[0;34m,\u001b[0m \u001b[0mextobj\u001b[0m\u001b[0;34m=\u001b[0m\u001b[0mextobj\u001b[0m\u001b[0;34m)\u001b[0m\u001b[0;34m\u001b[0m\u001b[0;34m\u001b[0m\u001b[0m\n\u001b[0m\u001b[1;32m    546\u001b[0m     \u001b[0;32mreturn\u001b[0m \u001b[0mwrap\u001b[0m\u001b[0;34m(\u001b[0m\u001b[0mainv\u001b[0m\u001b[0;34m.\u001b[0m\u001b[0mastype\u001b[0m\u001b[0;34m(\u001b[0m\u001b[0mresult_t\u001b[0m\u001b[0;34m,\u001b[0m \u001b[0mcopy\u001b[0m\u001b[0;34m=\u001b[0m\u001b[0;32mFalse\u001b[0m\u001b[0;34m)\u001b[0m\u001b[0;34m)\u001b[0m\u001b[0;34m\u001b[0m\u001b[0;34m\u001b[0m\u001b[0m\n\u001b[1;32m    547\u001b[0m \u001b[0;34m\u001b[0m\u001b[0m\n",
      "\u001b[0;32m~/miniconda3/lib/python3.9/site-packages/numpy/linalg/linalg.py\u001b[0m in \u001b[0;36m_raise_linalgerror_singular\u001b[0;34m(err, flag)\u001b[0m\n\u001b[1;32m     86\u001b[0m \u001b[0;34m\u001b[0m\u001b[0m\n\u001b[1;32m     87\u001b[0m \u001b[0;32mdef\u001b[0m \u001b[0m_raise_linalgerror_singular\u001b[0m\u001b[0;34m(\u001b[0m\u001b[0merr\u001b[0m\u001b[0;34m,\u001b[0m \u001b[0mflag\u001b[0m\u001b[0;34m)\u001b[0m\u001b[0;34m:\u001b[0m\u001b[0;34m\u001b[0m\u001b[0;34m\u001b[0m\u001b[0m\n\u001b[0;32m---> 88\u001b[0;31m     \u001b[0;32mraise\u001b[0m \u001b[0mLinAlgError\u001b[0m\u001b[0;34m(\u001b[0m\u001b[0;34m\"Singular matrix\"\u001b[0m\u001b[0;34m)\u001b[0m\u001b[0;34m\u001b[0m\u001b[0;34m\u001b[0m\u001b[0m\n\u001b[0m\u001b[1;32m     89\u001b[0m \u001b[0;34m\u001b[0m\u001b[0m\n\u001b[1;32m     90\u001b[0m \u001b[0;32mdef\u001b[0m \u001b[0m_raise_linalgerror_nonposdef\u001b[0m\u001b[0;34m(\u001b[0m\u001b[0merr\u001b[0m\u001b[0;34m,\u001b[0m \u001b[0mflag\u001b[0m\u001b[0;34m)\u001b[0m\u001b[0;34m:\u001b[0m\u001b[0;34m\u001b[0m\u001b[0;34m\u001b[0m\u001b[0m\n",
      "\u001b[0;31mLinAlgError\u001b[0m: Singular matrix"
     ]
    }
   ],
   "source": [
    "np.linalg.inv(C.T@C)"
   ]
  },
  {
   "cell_type": "code",
   "execution_count": null,
   "id": "5534b27e-7fdd-4ebc-985c-d9c89d37f41b",
   "metadata": {},
   "outputs": [],
   "source": []
  }
 ],
 "metadata": {
  "kernelspec": {
   "display_name": "Python 3 (ipykernel)",
   "language": "python",
   "name": "python3"
  },
  "language_info": {
   "codemirror_mode": {
    "name": "ipython",
    "version": 3
   },
   "file_extension": ".py",
   "mimetype": "text/x-python",
   "name": "python",
   "nbconvert_exporter": "python",
   "pygments_lexer": "ipython3",
   "version": "3.9.1"
  }
 },
 "nbformat": 4,
 "nbformat_minor": 5
}
