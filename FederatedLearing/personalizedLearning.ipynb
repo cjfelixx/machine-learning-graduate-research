{
 "cells": [
  {
   "cell_type": "markdown",
   "id": "79131048-295d-49df-b2d5-89a599597d05",
   "metadata": {},
   "source": [
    "## Collaborative/Personalized Learning"
   ]
  },
  {
   "cell_type": "code",
   "execution_count": 1,
   "id": "a6eceb3f-4d62-4c1a-8505-4a0b119eff64",
   "metadata": {},
   "outputs": [],
   "source": [
    "%matplotlib inline\n",
    "\n",
    "import numpy as np\n",
    "import matplotlib.pyplot as plt\n",
    "from tqdm import tqdm\n",
    "# from utils import Kernel\n",
    "\n",
    "from onlineKernels.klms import *\n",
    "from onlineKernels.knlms import *\n",
    "from onlineKernels.krls import *\n",
    "from onlineKernels.klmsRFF import *\n",
    "from onlineKernels.knlmsRFF import *\n",
    "from onlineKernels.krlsRFF import *\n",
    "\n",
    "from dataset.dodd import load_dodd\n",
    "from sklearn.utils import shuffle"
   ]
  },
  {
   "cell_type": "code",
   "execution_count": 7,
   "id": "0c1e31fb-0cb0-46e8-86be-961211fd762a",
   "metadata": {},
   "outputs": [
    {
     "name": "stderr",
     "output_type": "stream",
     "text": [
      "100%|██████████| 10/10 [00:00<00:00, 21366.81it/s]"
     ]
    },
    {
     "name": "stdout",
     "output_type": "stream",
     "text": [
      "0\n",
      "1\n",
      "2\n",
      "3\n",
      "4\n",
      "5\n",
      "6\n",
      "7\n",
      "8\n",
      "9\n"
     ]
    },
    {
     "name": "stderr",
     "output_type": "stream",
     "text": [
      "\n"
     ]
    }
   ],
   "source": [
    "iteration = 10\n",
    "# Edge clients\n",
    "K = 10\n",
    "# Canonical models\n",
    "N = 8\n",
    "# Kernel Dictionary size\n",
    "D = 50\n",
    "num_experiments = 1\n",
    "C = np.zeros((K,1))\n",
    "A = np.zeros((K,D))\n",
    "a = np.zeros((D,1))\n",
    "u,d,d_true = load_dodd(num_data)\n",
    "\n",
    "W = (1/sigma) * np.random.normal(size=(2,D))\n",
    "b = np.random.uniform(0,2*np.pi,(D,1))\n",
    "h = np.sqrt(2/D) * np.cos(W.T @ u.T + b)\n",
    "for i in tqdm(range(1,iteration)):\n",
    "    v = np.random.randint(len(d))\n",
    "    edge = np.random.randint(K)\n",
    "    # Convert c to C\n",
    "    \n",
    "    # Calculate a\n",
    "    \n",
    "    # Convert a to A\n",
    "    \n",
    "    # Calculate C"
   ]
  },
  {
   "cell_type": "code",
   "execution_count": null,
   "id": "fc92a751",
   "metadata": {},
   "outputs": [],
   "source": []
  }
 ],
 "metadata": {
  "kernelspec": {
   "display_name": "Python 3 (ipykernel)",
   "language": "python",
   "name": "python3"
  },
  "language_info": {
   "codemirror_mode": {
    "name": "ipython",
    "version": 3
   },
   "file_extension": ".py",
   "mimetype": "text/x-python",
   "name": "python",
   "nbconvert_exporter": "python",
   "pygments_lexer": "ipython3",
   "version": "3.9.7"
  }
 },
 "nbformat": 4,
 "nbformat_minor": 5
}
