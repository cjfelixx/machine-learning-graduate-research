{
 "cells": [
  {
   "cell_type": "code",
   "execution_count": 1,
   "id": "1eb73ac0",
   "metadata": {},
   "outputs": [
    {
     "name": "stdout",
     "output_type": "stream",
     "text": [
      "Number of processors:  8\n"
     ]
    }
   ],
   "source": [
    "%matplotlib inline\n",
    "\n",
    "import random\n",
    "import numpy as np\n",
    "import matplotlib.pyplot as plt\n",
    "from tqdm import tqdm\n",
    "from knlms import *\n",
    "from krls import *\n",
    "from krls_rff import *\n",
    "from klms import *\n",
    "from klms_rff import *\n",
    "from kernel import Kernel\n",
    "\n",
    "# Multiprocessing\n",
    "import multiprocessing as mp\n",
    "print(\"Number of processors: \", mp.cpu_count())"
   ]
  },
  {
   "cell_type": "code",
   "execution_count": 2,
   "id": "84552afa",
   "metadata": {},
   "outputs": [],
   "source": [
    "def generate_data(num_data):\n",
    "    # AWGN\n",
    "    v = 0.1*np.random.normal(0,1,num_data+2) \n",
    "\n",
    "    # Initial conditions\n",
    "    d_true =[0.1 , 0.1]\n",
    "    d = [d_true[0] + v[0], d_true[1] + v[1]]\n",
    "\n",
    "    # Grab new data\n",
    "    new_d_true = lambda d: d.append((0.8 - 0.5 * np.exp(-(d[-1]**2)))*d[-1] - (0.3 + 0.9*np.exp(-(d[-1]**2)))*d[-2] + 0.1*np.sin(np.pi*d[-1]))\n",
    "    for i in range(2,num_data+2):\n",
    "        new_d_true(d_true)\n",
    "        d.append(d_true[-1] + v[i])\n",
    "\n",
    "    u = np.hstack((np.array(d[0:num_data]).reshape(num_data,1),np.array(d[1:num_data+1]).reshape(num_data,1)))\n",
    "    d_true = d_true[2::]\n",
    "    d = d[2::]\n",
    "    return np.array(u), np.array(d),np.array(d_true)\n",
    "\n",
    "# Parameters\n",
    "num_data = 3000\n",
    "kernel = Kernel(3.73)\n",
    "K = 10 # K edge clients\n",
    "step_size = 0.79\n",
    "reg_coeff = 0.03\n",
    "threshold = 0.5"
   ]
  },
  {
   "cell_type": "code",
   "execution_count": 3,
   "id": "622a9541",
   "metadata": {},
   "outputs": [],
   "source": [
    "edge_update = [0] * K \n",
    "min_updates = 10\n",
    "\n",
    "u,d,d_true = generate_data(num_data)\n",
    "\n",
    "# generating data\n",
    "# Data prepocessing for K clients\n",
    "edges_u = []\n",
    "edges_d = []\n",
    "edges_d_true = []\n",
    "for k in range(K):\n",
    "    u,d,d_true = generate_data(num_data)\n",
    "    \n",
    "    edges_u.append(np.array(u))\n",
    "    edges_d.append(np.array(d))\n",
    "    edges_d_true.append(np.array(d_true))"
   ]
  },
  {
   "cell_type": "code",
   "execution_count": 4,
   "id": "c16b09ac",
   "metadata": {},
   "outputs": [
    {
     "name": "stderr",
     "output_type": "stream",
     "text": [
      "100%|██████████████████████████████████| 10000/10000 [00:00<00:00, 30050.45it/s]\n"
     ]
    },
    {
     "data": {
      "text/plain": [
       "(0.01, 1.0)"
      ]
     },
     "execution_count": 4,
     "metadata": {},
     "output_type": "execute_result"
    },
    {
     "data": {
      "image/png": "[encoded data removed]",
      "text/plain": [
       "<Figure size 720x432 with 1 Axes>"
      ]
     },
     "metadata": {
      "needs_background": "light"
     },
     "output_type": "display_data"
    }
   ],
   "source": [
    "# Federated learning: Asynchronous updating rule\n",
    "\n",
    "l = 500 # l updates for synchronous\n",
    "c =  np.ones(K).reshape(K,1)/K # edge weighting\n",
    "D = 200 # Dictionary size\n",
    "\n",
    "iteration = 10000\n",
    "alpha_0 = np.zeros((D,1))\n",
    "alphas = np.zeros((K,D))\n",
    "\n",
    "\n",
    "\n",
    "final_mse = []\n",
    "\n",
    "# Process data and kernel\n",
    "u,d,d_true = generate_data(num_data)\n",
    "mse = [np.var(d)]\n",
    "sigma = 1/np.sqrt(2*kernel.sigma)\n",
    "W = (1/sigma) * np.random.normal(loc=0, scale=sigma, size=(2,D))\n",
    "b = np.random.uniform(0,2*np.pi,D).reshape(D,1)\n",
    "h = np.sqrt(2/D) * np.cos(W.T @ u.T + b)\n",
    "for n in tqdm(range(iteration)):\n",
    "\n",
    "    # Local updates\n",
    "    i = np.random.randint(0,num_data)\n",
    "    edge = np.random.randint(0,K)\n",
    "\n",
    "    alpha_k = alphas[edge].reshape((D,1))\n",
    "    u_k = u[i]\n",
    "    h_k = h[:,i].reshape((D,1))\n",
    "    d_k = np.array([d[i]])\n",
    "    err = d_k - h_k.T @ alpha_k\n",
    "    alpha_step = alpha_k + step_size * err * h_k\n",
    "#     _,alpha_step = KLMS_RFF(u_k,d_k,h_k,step_size,D,alpha_0=alpha_k)\n",
    "    edge_update[edge] = edge_update[edge] + 1\n",
    "    \n",
    "    alphas[edge] = alpha_step.T\n",
    "\n",
    "    glob = 1\n",
    "    # check to see if we need a global update\n",
    "    for m in range(len(edge_update)):\n",
    "        if edge_update[m] < min_updates:\n",
    "            glob = 0\n",
    "    \n",
    "    # Global update iff all edges have at least min_updates\n",
    "    if glob == 1:\n",
    "#         print(n)\n",
    "        alpha = (alphas.T @ c)\n",
    "        alphas = np.repeat(alpha,K,axis=1).T\n",
    "        mse.append(np.square(np.linalg.norm(d[-500::].reshape(500,1) - h.T[-500::] @ alpha))/500)\n",
    "        \n",
    "        edge_update = [0] * K\n",
    "        \n",
    "    elif n > 1:\n",
    "        mse.append(mse[-1])\n",
    "# final_mse.append(mse[0])\n",
    "\n",
    "plt.figure(figsize=(10, 6))\n",
    "plt.semilogy(range(len(mse)),mse)\n",
    "plt.ylim([1e-2,1e0])"
   ]
  },
  {
   "cell_type": "code",
   "execution_count": null,
   "id": "4f79847a",
   "metadata": {},
   "outputs": [],
   "source": []
  }
 ],
 "metadata": {
  "kernelspec": {
   "display_name": "Python (anaconda)",
   "language": "python",
   "name": "other-env"
  },
  "language_info": {
   "codemirror_mode": {
    "name": "ipython",
    "version": 3
   },
   "file_extension": ".py",
   "mimetype": "text/x-python",
   "name": "python",
   "nbconvert_exporter": "python",
   "pygments_lexer": "ipython3",
   "version": "3.8.8"
  }
 },
 "nbformat": 4,
 "nbformat_minor": 5
}
