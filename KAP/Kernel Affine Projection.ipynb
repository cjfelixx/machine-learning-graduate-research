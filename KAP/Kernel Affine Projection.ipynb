{
 "cells": [
  {
   "cell_type": "markdown",
   "metadata": {},
   "source": [
    "For the Kernel Affine Projection algorithm. We initialize the discrete-time non-linear system through \n",
    "\n",
    "v_n = 1.1exp(-|v_n-1|) + u_n\n",
    "\n",
    "with the desired output d_n being\n",
    "\n",
    "d_n = v_n^2\n",
    "\n",
    "For initialization, we initialize u_n from a zero-mean Guassian distribution  with standard deviation 0.25."
   ]
  },
  {
   "cell_type": "code",
   "execution_count": 1,
   "metadata": {},
   "outputs": [
    {
     "data": {
      "text/plain": [
       "0.045861337586390605"
      ]
     },
     "execution_count": 1,
     "metadata": {},
     "output_type": "execute_result"
    }
   ],
   "source": [
    "import numpy as np\n",
    "import math as m\n",
    "\n",
    "sigma = 0.25\n",
    "\n",
    "np.random.normal(0,sigma)"
   ]
  },
  {
   "cell_type": "markdown",
   "metadata": {},
   "source": [
    "For our kernel function, we will be using a modified Guassian kernel described as\n",
    "\n",
    "k(ui,uj) = exp(-||ui - uj||/ b0)\n",
    "\n",
    "for a varied optimized b0 from 0.1 to 1 in increments of 0.005"
   ]
  },
  {
   "cell_type": "code",
   "execution_count": null,
   "metadata": {},
   "outputs": [],
   "source": [
    "def KAPgaussianKernel(a,b):\n",
    "    b0 = 0.7\n",
    "    return np.linalg.norm(a-b) / b0\n"
   ]
  },
  {
   "cell_type": "code",
   "execution_count": 6,
   "metadata": {},
   "outputs": [
    {
     "name": "stdout",
     "output_type": "stream",
     "text": [
      "0.5 1.6210360758255264 0.25 2.627757959127822\n"
     ]
    }
   ],
   "source": [
    "end = 500\n",
    "\n",
    "un = np.random.normal(0,sigma,end)\n",
    "v0 = 0.5\n",
    "v1 = 1.1 * m.exp(v0) + un[0]\n",
    "\n",
    "\n",
    "\n",
    "noise = np.random.normal(0,1,end)\n",
    "\n",
    "d0 = v0 ** 2\n",
    "d1 = v1 ** 2\n",
    "\n",
    "print(v0,v1,d0,d1)\n",
    "\n",
    "# v = np.array([v_0,v_1])\n",
    "# dground = np.array(d_0,d_1)\n",
    "# d = dground + noise[0:1]\n",
    "\n",
    "\n"
   ]
  },
  {
   "cell_type": "code",
   "execution_count": null,
   "metadata": {},
   "outputs": [],
   "source": [
    "x = 0.5\n",
    "2 * m.exp(x)"
   ]
  }
 ],
 "metadata": {
  "kernelspec": {
   "display_name": "Python 3",
   "language": "python",
   "name": "python3"
  },
  "language_info": {
   "codemirror_mode": {
    "name": "ipython",
    "version": 3
   },
   "file_extension": ".py",
   "mimetype": "text/x-python",
   "name": "python",
   "nbconvert_exporter": "python",
   "pygments_lexer": "ipython3",
   "version": "3.8.5"
  }
 },
 "nbformat": 4,
 "nbformat_minor": 4
}
