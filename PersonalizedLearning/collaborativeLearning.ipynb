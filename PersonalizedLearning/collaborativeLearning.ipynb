{
 "cells": [
  {
   "cell_type": "code",
   "execution_count": 209,
   "id": "d368f995",
   "metadata": {},
   "outputs": [],
   "source": [
    "import numpy as np\n",
    "import warnings\n",
    "warnings.filterwarnings('ignore')\n",
    "from math import trunc"
   ]
  },
  {
   "cell_type": "code",
   "execution_count": 210,
   "id": "aa419eb0",
   "metadata": {},
   "outputs": [],
   "source": [
    "k = 3\n",
    "sigK = 1000\n",
    "N = 100\n",
    "sigY = 5\n",
    "p = np.array([0.4, 0.3, 0.3])\n",
    "Bs = np.array(([10, 5, 2],[-0.0100, -0.1000, -0.5000]))"
   ]
  },
  {
   "cell_type": "code",
   "execution_count": 211,
   "id": "92536262",
   "metadata": {},
   "outputs": [],
   "source": [
    "s = np.array([])\n",
    "sigmaK = np.array([[0,0,0]]).T\n",
    "for i in range(k):\n",
    "    s = np.ones((k,1))\n",
    "    s[i] = s[i] + sigK\n",
    "    sigmaK = np.concatenate((sigmaK, s), axis = 1)\n",
    "\n",
    "# temp line since np.concatenate needs a dummy column to work \n",
    "sigmaK = np.delete(sigmaK, 0, axis = 1)\n"
   ]
  },
  {
   "cell_type": "code",
   "execution_count": 212,
   "id": "872231c4",
   "metadata": {},
   "outputs": [],
   "source": [
    "def discreteinrnd(p, m, n):\n",
    "    X = np.zeros((m,n))\n",
    "    for i in range(m*n):\n",
    "        u = np.random.rand()\n",
    "        j = np.cumsum(p)\n",
    "        I = np.argwhere(u < j)\n",
    "        X [i] = min(I)\n",
    "    return X\n",
    "        "
   ]
  },
  {
   "cell_type": "code",
   "execution_count": 213,
   "id": "d6044a3a",
   "metadata": {},
   "outputs": [],
   "source": [
    "def WATsim(N, K, C, sigmaK, p):\n",
    "    clas = np.array([])\n",
    "    W = np.array([[0,0,0]]).T\n",
    "    \n",
    "    for i in range(N):\n",
    "        clas = np.append(clas, discreteinrnd(p, 1, 1))\n",
    "        \n",
    "        temp2 = sigmaK[trunc(clas[i])]\n",
    "        temp2 = np.append(temp2, np.array([1, 1, 1, 1, 1, 1]))\n",
    "        temp2 = temp2.reshape(3,3)                \n",
    "        \n",
    "        temp = abs(np.random.multivariate_normal(np.zeros(C), temp2))\n",
    "        temp = np.true_divide(temp, np.sum(temp))\n",
    "        W = np.concatenate((W, temp.reshape(3,1)), axis = 1)        \n",
    "    \n",
    "    return clas, W, W.T @ W\n"
   ]
  },
  {
   "cell_type": "code",
   "execution_count": 214,
   "id": "6e177af9",
   "metadata": {},
   "outputs": [],
   "source": [
    "def MCsim(W,T, B, sigmaE):\n",
    "    N, K = W.T.shape\n",
    "    \n",
    "    Y = np.array([])\n",
    "    \n",
    "    for i in range(1,N):\n",
    "        e = np.random.normal(0, sigmaE, (25,1))\n",
    "        k = W.T[i-1] @ B.T @ T[i-1] + e.T\n",
    "        Y = np.append(Y, k).reshape(i,25)\n",
    "    return Y\n",
    "        \n"
   ]
  },
  {
   "cell_type": "code",
   "execution_count": 215,
   "id": "a94015e3",
   "metadata": {},
   "outputs": [],
   "source": [
    "clas,W,A = WATsim(N, k, k, sigmaK.T, p)"
   ]
  },
  {
   "cell_type": "code",
   "execution_count": 216,
   "id": "522f1c20",
   "metadata": {},
   "outputs": [],
   "source": [
    "Tall = np.array(np.ones((1,25)))\n",
    "t = np.array([i for i in range(1,26)])\n",
    "Tall = np.append(Tall, t).reshape(2,25)\n",
    "Tall = np.append(Tall,Tall).reshape(2,2,25)\n",
    "\n",
    "t2 = np.append(np.ones((1,25)), t).reshape(2,25)\n",
    "\n",
    "for i in range(3,N+1):\n",
    "    Tall = np.append(Tall, t2).reshape(i, 2, 25)\n"
   ]
  },
  {
   "cell_type": "code",
   "execution_count": 217,
   "id": "b2767845",
   "metadata": {},
   "outputs": [],
   "source": [
    "S = MCsim(W, Tall, Bs, 0.1)\n",
    "\n"
   ]
  }
 ],
 "metadata": {
  "kernelspec": {
   "display_name": "Python (anaconda)",
   "language": "python",
   "name": "other-env"
  },
  "language_info": {
   "codemirror_mode": {
    "name": "ipython",
    "version": 3
   },
   "file_extension": ".py",
   "mimetype": "text/x-python",
   "name": "python",
   "nbconvert_exporter": "python",
   "pygments_lexer": "ipython3",
   "version": "3.8.8"
  }
 },
 "nbformat": 4,
 "nbformat_minor": 5
}
