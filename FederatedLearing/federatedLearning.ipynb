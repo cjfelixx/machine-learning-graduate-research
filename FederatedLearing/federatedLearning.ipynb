{
 "cells": [
  {
   "cell_type": "markdown",
   "id": "597eb1a4-55af-4a8c-b000-581bbafd3bc3",
   "metadata": {},
   "source": [
    "# Federated Learning"
   ]
  },
  {
   "cell_type": "code",
   "execution_count": 148,
   "id": "88a7b5cb-341c-4a9b-b05a-5e6c03a4c9ae",
   "metadata": {},
   "outputs": [
    {
     "name": "stdout",
     "output_type": "stream",
     "text": [
      "Number of processors:  8\n"
     ]
    }
   ],
   "source": [
    "%matplotlib inline\n",
    "\n",
    "import numpy as np\n",
    "import matplotlib.pyplot as plt\n",
    "from tqdm import tqdm\n",
    "from kernel import Kernel\n",
    "\n",
    "from klms import *\n",
    "from knlms import *\n",
    "from krls import *\n",
    "from klms_rff import *\n",
    "from knlms_rff import *\n",
    "from krls_rff import *\n",
    "\n",
    "# Multiprocessing\n",
    "import multiprocessing as mp\n",
    "print(\"Number of processors: \", mp.cpu_count())"
   ]
  },
  {
   "cell_type": "code",
   "execution_count": 243,
   "id": "fd94ff4d-5adc-424e-9532-8683becc50ae",
   "metadata": {},
   "outputs": [],
   "source": [
    "def generate_data(num_data):\n",
    "    # AWGN\n",
    "    v = 0.1*np.random.normal(size=num_data+2) \n",
    "\n",
    "    # Initial conditions\n",
    "    d_true =[0.1 , 0.1]\n",
    "    d = [d_true[0] + v[0], d_true[1] + v[1]]\n",
    "\n",
    "    # Grab new data\n",
    "    new_d_true = lambda d: d.append((0.8 - 0.5 * np.exp(-(d[-1]**2)))*d[-1] - (0.3 + 0.9*np.exp(-(d[-1]**2)))*d[-2] + 0.1*np.sin(np.pi*d[-1]))\n",
    "    for i in range(2,num_data+2):\n",
    "        new_d_true(d_true)\n",
    "        d.append(d_true[-1] + v[i])\n",
    "\n",
    "    u = np.hstack((np.array(d[0:num_data]).reshape(num_data,1),np.array(d[1:num_data+1]).reshape(num_data,1)))\n",
    "    d_true = d_true[2::]\n",
    "    d = d[2::]\n",
    "    return np.array(u),np.array(d),np.array(d_true)\n",
    "\n",
    "# Parameters\n",
    "num_data = 3000\n",
    "kernel = Kernel(3.73)\n",
    "\n",
    "step_size = 0.7\n",
    "reg_coeff = 0.1\n",
    "threshold = 0.5"
   ]
  },
  {
   "cell_type": "code",
   "execution_count": 244,
   "id": "79c88782-2701-42c7-b2e3-90f891311404",
   "metadata": {},
   "outputs": [
    {
     "name": "stderr",
     "output_type": "stream",
     "text": [
      "100%|██████████████████████████████████| 10000/10000 [00:00<00:00, 20207.97it/s]\n"
     ]
    },
    {
     "data": {
      "text/plain": [
       "(0.01, 1.0)"
      ]
     },
     "execution_count": 244,
     "metadata": {},
     "output_type": "execute_result"
    },
    {
     "data": {
      "image/png": "[encoded data removed]",
      "text/plain": [
       "<Figure size 432x288 with 1 Axes>"
      ]
     },
     "metadata": {
      "needs_background": "light"
     },
     "output_type": "display_data"
    }
   ],
   "source": [
    "# Centralized method\n",
    "K = 10 # K edge clients\n",
    "c =  np.ones(K).reshape(K,1)/K # edge weighting\n",
    "D = 100 # Dictionary size\n",
    "l = 150\n",
    "iteration = 10000\n",
    "alpha_0 = np.zeros((D,1))\n",
    "alpha = alpha_0\n",
    "err = []\n",
    "mean_mse = []\n",
    "\n",
    "# Process data and kernel\n",
    "u,d,d_true = generate_data(num_data)\n",
    "\n",
    "mse_cent = [np.var(d)]\n",
    "sigma = 1/np.sqrt(2*kernel.sigma)\n",
    "W = (1/sigma) * np.random.normal(size=(2,D))\n",
    "\n",
    "b = np.random.uniform(0,np.pi,(D,1))\n",
    "h = np.sqrt(2/D) * np.cos(W.T @ u.T + b)\n",
    "for n in tqdm(range(iteration)):\n",
    "\n",
    "    # Local updates\n",
    "    v = np.random.randint(0,num_data)\n",
    "    alpha_in = alpha\n",
    "    u_k = u[v]\n",
    "    h_k = h[:,v].reshape((D,1))\n",
    "    d_k = np.array([d[v]])\n",
    "#     err = d_k - h_k.T @ alpha_in\n",
    "#     alpha_step = alpha_in + step_size  * h_k * err\n",
    "    erri,alpha_step = KLMS_RFF(u_k,d_k,h_k,step_size,D,alpha_0=alpha_in)\n",
    "\n",
    "    alpha = alpha_step\n",
    "    mse_cent.append(np.square(np.linalg.norm(d[-500::].reshape(500,1) - h.T[-500::] @ alpha))/500)\n",
    "\n",
    "# plt.figure(figsize=(7, 6))\n",
    "plt.semilogy(range(len(mse_cent)),mse_cent)\n",
    "plt.ylim([1e-2,1e0])\n",
    "# plt.xlim([0,3000])"
   ]
  },
  {
   "cell_type": "code",
   "execution_count": 250,
   "id": "ea2a1bf1-70ba-4b5d-b43a-acd308c27d44",
   "metadata": {},
   "outputs": [
    {
     "name": "stderr",
     "output_type": "stream",
     "text": [
      "100%|██████████████████████████████████| 10000/10000 [00:00<00:00, 30889.39it/s]\n",
      "100%|██████████████████████████████████| 10000/10000 [00:00<00:00, 27632.41it/s]\n",
      "100%|██████████████████████████████████| 10000/10000 [00:00<00:00, 33872.02it/s]\n"
     ]
    },
    {
     "data": {
      "text/plain": [
       "(0.0, 3000.0)"
      ]
     },
     "execution_count": 250,
     "metadata": {},
     "output_type": "execute_result"
    },
    {
     "data": {
      "image/png": "[encoded data removed]",
      "text/plain": [
       "<Figure size 504x432 with 1 Axes>"
      ]
     },
     "metadata": {
      "needs_background": "light"
     },
     "output_type": "display_data"
    }
   ],
   "source": [
    "# Federated learning: Synchronous updating rule\n",
    "plt.figure(figsize=(7, 6))\n",
    "# plt.semilogy(range(len(mse_cent)),mse_cent)\n",
    "\n",
    "K = 10 # K edge clients\n",
    "c =  np.ones(K).reshape(K,1)/K # edge weighting\n",
    "D = 100 # Dictionary size\n",
    "l = [20, 100, 150]\n",
    "iteration = 10000\n",
    "\n",
    "for epoch in range(len(l)):\n",
    "    alpha_0 = np.zeros((D,1))\n",
    "    alpha = alpha_0\n",
    "    alphas = np.zeros((K,D))\n",
    "    err = []\n",
    "    mean_mse = []\n",
    "\n",
    "    # Process data and kernel\n",
    "    u,d,d_true = generate_data(num_data)\n",
    "\n",
    "    mse = [np.var(d)]\n",
    "    sigma = 1/np.sqrt(2*kernel.sigma)\n",
    "    W = (1/sigma) * np.random.normal(size=(2,D))\n",
    "\n",
    "    b = np.random.uniform(0,np.pi,(D,1))\n",
    "    h = np.sqrt(2/D) * np.cos(W.T @ u.T + b)\n",
    "    for n in tqdm(range(iteration)):\n",
    "\n",
    "        # Local updates\n",
    "        v = np.random.randint(0,num_data)\n",
    "        edge = np.random.randint(0,K)\n",
    "\n",
    "        alpha_in = alphas[edge].reshape((D,1))\n",
    "        u_k = u[v]\n",
    "        h_k = h[:,v].reshape((D,1))\n",
    "        d_k = np.array([d[v]])\n",
    "    #     err = d_k - h_k.T @ alpha_in\n",
    "    #     alpha_step = alpha_in + step_size  * h_k * err\n",
    "        erri,alpha_step = KLMS_RFF(u_k,d_k,h_k,step_size,D,alpha_0=alpha_in)\n",
    "        err.append(erri)\n",
    "        alphas[edge] = alpha_step.T\n",
    "\n",
    "        # Global update\n",
    "        if n % l[epoch] == 0 and n>1:\n",
    "            alpha = (alphas.T @ c)\n",
    "            alphas = np.repeat(alpha,K,axis=1).T\n",
    "            mse.append(np.square(np.linalg.norm(d[-500::].reshape(500,1) - h.T[-500::] @ alpha))/500)\n",
    "        elif n > 1:\n",
    "            mse.append(mse[-1])\n",
    "    # final_mse.append(mse[0])\n",
    "\n",
    "\n",
    "    plt.semilogy(range(len(mse)),mse,label=\"p=\" + str(l[epoch]))\n",
    "plt.legend()\n",
    "plt.ylim([1e-2,1e0])\n",
    "plt.xlim([0,3000])"
   ]
  },
  {
   "cell_type": "code",
   "execution_count": 249,
   "id": "1fac3c58-3480-429d-a7e6-93d546026038",
   "metadata": {},
   "outputs": [
    {
     "name": "stderr",
     "output_type": "stream",
     "text": [
      "100%|██████████████████████████████████| 10000/10000 [00:00<00:00, 29024.14it/s]\n"
     ]
    },
    {
     "data": {
      "text/plain": [
       "(0.01, 0.6)"
      ]
     },
     "execution_count": 249,
     "metadata": {},
     "output_type": "execute_result"
    },
    {
     "data": {
      "image/png": "[encoded data removed]",
      "text/plain": [
       "<Figure size 504x432 with 1 Axes>"
      ]
     },
     "metadata": {
      "needs_background": "light"
     },
     "output_type": "display_data"
    }
   ],
   "source": [
    "# Federated learning: Asynchronous updating rule\n",
    "K = 10 # K edge clients\n",
    "c =  np.ones(K).reshape(K,1)/K # edge weighting\n",
    "D = 100 # Dictionary size\n",
    "l = 10\n",
    "iteration = 10000\n",
    "\n",
    "final_mse = []\n",
    "\n",
    "# Process data and kernel\n",
    "u,d,d_true = generate_data(num_data)\n",
    "\n",
    "mse = [np.var(d)]\n",
    "sigma = 1/np.sqrt(2*kernel.sigma)\n",
    "W = (1/sigma) * np.random.normal(loc=0, scale=1.0, size=(2,D))\n",
    "b = np.random.uniform(0,2*np.pi,(D,1))\n",
    "h = np.sqrt(2/D) * np.cos(W.T @ u.T + b)\n",
    "\n",
    "alpha_0 = np.zeros((D,1))\n",
    "alpha = alpha_0\n",
    "alphas = np.zeros((K,D))\n",
    "last_alphas = alphas.copy()\n",
    "edge_count = [ 0 for i in range(K)]\n",
    "for n in tqdm(range(iteration)):\n",
    "\n",
    "    # Local updates\n",
    "    v = np.random.randint(num_data)\n",
    "    edge = np.random.randint(K)\n",
    "    edge_count[edge] += 1\n",
    "    alpha_in = alphas[edge].reshape((D,1))\n",
    "    u_k = u[v]\n",
    "    h_k = h[:,v].reshape((D,1))\n",
    "    d_k = np.array([d[v]])\n",
    "#     err = d_k - h_k.T @ alpha_in\n",
    "#     alpha_step = alpha_in + step_size  * h_k * err\n",
    "    _,alpha_step = KLMS_RFF(u_k,d_k,h_k,step_size,D,alpha_0=alpha_in)\n",
    "\n",
    "    alphas[edge] = alpha_step.T\n",
    "\n",
    "    # Global update\n",
    "    if edge_count[edge] % l == 0 and n>1:\n",
    "        alpha += (alphas[edge] - last_alphas[edge]).reshape((D,1))/l\n",
    "        alphas[edge] = alpha.reshape((D,))\n",
    "        last_alphas[edge] = alphas[edge]\n",
    "        mse.append(np.square(np.linalg.norm(d[-500::].reshape(500,1) - h.T[-500::] @ alpha))/500)\n",
    "        edge_count[edge] = 0\n",
    "    \n",
    "    elif n > 1:\n",
    "        mse.append(mse[-1])\n",
    "# final_mse.append(mse[0])\n",
    "\n",
    "plt.figure(figsize=(7, 6))\n",
    "plt.semilogy(range(len(mse)),mse)\n",
    "plt.ylim([1e-2,.6])\n",
    "# plt.xlim([0,3000])"
   ]
  },
  {
   "cell_type": "code",
   "execution_count": 54,
   "id": "93a37e76-389c-4d8f-a91f-40cce55f594e",
   "metadata": {},
   "outputs": [
    {
     "data": {
      "text/plain": [
       "[0.5417827302165823,\n",
       " 0.029256667123112583,\n",
       " 0.027052609229140843,\n",
       " 0.027458593312713334,\n",
       " 0.02918008673976943,\n",
       " 0.025095406667571922,\n",
       " 0.0278366199092296,\n",
       " 0.025281021700026492,\n",
       " 0.02423330516008425,\n",
       " 0.024481027797950392,\n",
       " 0.023895427420914286,\n",
       " 0.02440693433691005,\n",
       " 0.02674569172821225,\n",
       " 0.02579276609304372,\n",
       " 0.023779834307902807,\n",
       " 0.026190944812969377,\n",
       " 0.02388628219607103,\n",
       " 0.02430406085406279,\n",
       " 0.024875654081228195,\n",
       " 0.024400341010043354]"
      ]
     },
     "execution_count": 54,
     "metadata": {},
     "output_type": "execute_result"
    }
   ],
   "source": [
    "mse[0::500]"
   ]
  },
  {
   "cell_type": "code",
   "execution_count": null,
   "id": "8d7f8faf-d622-4670-b426-bdd5cf65fec4",
   "metadata": {},
   "outputs": [],
   "source": []
  }
 ],
 "metadata": {
  "kernelspec": {
   "display_name": "Python 3 (ipykernel)",
   "language": "python",
   "name": "python3"
  },
  "language_info": {
   "codemirror_mode": {
    "name": "ipython",
    "version": 3
   },
   "file_extension": ".py",
   "mimetype": "text/x-python",
   "name": "python",
   "nbconvert_exporter": "python",
   "pygments_lexer": "ipython3",
   "version": "3.9.1"
  }
 },
 "nbformat": 4,
 "nbformat_minor": 5
}
