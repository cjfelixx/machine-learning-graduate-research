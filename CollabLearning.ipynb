{
 "cells": [
  {
   "cell_type": "code",
   "execution_count": 1,
   "id": "125af1d8",
   "metadata": {},
   "outputs": [],
   "source": [
    "import numpy as np"
   ]
  },
  {
   "cell_type": "code",
   "execution_count": 2,
   "id": "dfbefb1d",
   "metadata": {},
   "outputs": [],
   "source": [
    "# model 1\n",
    "\n",
    "# model parameters\n",
    "K = 3\n",
    "sigK = 1000\n",
    "N = 100\n",
    "sigY = 5\n",
    "p = np.array([0.4, 0.3, 0.3])\n",
    "Bs = np.array([[10, 5, 2], [-0.0100, -0.1000, -0.5000]])"
   ]
  },
  {
   "cell_type": "code",
   "execution_count": 3,
   "id": "73ed4bce",
   "metadata": {},
   "outputs": [],
   "source": [
    "sigmaK = np.array([0, 0, 0])\n",
    "for i in range(0,K):\n",
    "    s = np.ones((K,1))\n",
    "    s[i] = s[i] + sigK\n",
    "    sigmaK = np.column_stack((sigmaK, s))\n",
    "    \n",
    "# deleteing buffered aray\n",
    "sigmaK = np.delete(sigmaK, 0, 1)"
   ]
  },
  {
   "cell_type": "code",
   "execution_count": 4,
   "id": "92bfa640",
   "metadata": {},
   "outputs": [
    {
     "data": {
      "text/plain": [
       "array([2, 1, 2, 2, 3, 1, 1, 1, 1, 2, 2, 1, 1, 2, 3, 1, 1, 1, 3, 3, 3, 3,\n",
       "       2, 1, 3, 3, 1, 2, 2, 3, 3, 1, 2, 1, 2, 1, 1, 3, 1, 2, 2, 1, 1, 2,\n",
       "       1, 3, 3, 1, 3, 2, 1, 1, 1, 3, 1, 1, 1, 1, 1, 3, 2, 2, 2, 2, 2, 1,\n",
       "       2, 3, 2, 2, 3, 1, 1, 1, 2, 2, 3, 3, 2, 1, 3, 2, 1, 1, 2, 1, 1, 2,\n",
       "       3, 1, 3, 2, 2, 1, 2, 1, 1, 3, 3, 2])"
      ]
     },
     "execution_count": 4,
     "metadata": {},
     "output_type": "execute_result"
    }
   ],
   "source": [
    "def generate_data(N, K, X, sigmaK, p):\n",
    "    clas = np.random.choice([1,2,3], 100, p = p)\n",
    "    nice = []\n",
    "    \n",
    "    for i in range(N):\n",
    "        np.random.multivariate_normal()\n",
    "        \n",
    "    \n",
    "    \n",
    "    return clas\n",
    "\n",
    "generate_data(N, K, K, sigmaK, p)"
   ]
  },
  {
   "cell_type": "code",
   "execution_count": null,
   "id": "8370494e",
   "metadata": {},
   "outputs": [],
   "source": [
    "def collabLearning(X,y,C,W):\n",
    "    # c\n",
    "    \n",
    "    # a\n",
    "    \n",
    "    # q\n",
    "    \n",
    "    # update c"
   ]
  }
 ],
 "metadata": {
  "kernelspec": {
   "display_name": "Python (anaconda)",
   "language": "python",
   "name": "other-env"
  },
  "language_info": {
   "codemirror_mode": {
    "name": "ipython",
    "version": 3
   },
   "file_extension": ".py",
   "mimetype": "text/x-python",
   "name": "python",
   "nbconvert_exporter": "python",
   "pygments_lexer": "ipython3",
   "version": "3.8.8"
  }
 },
 "nbformat": 4,
 "nbformat_minor": 5
}
