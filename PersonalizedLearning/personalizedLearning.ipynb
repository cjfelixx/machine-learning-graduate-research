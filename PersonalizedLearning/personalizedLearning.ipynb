{
 "cells": [
  {
   "cell_type": "markdown",
   "id": "79131048-295d-49df-b2d5-89a599597d05",
   "metadata": {},
   "source": [
    "## Collaborative/Personalized Learning"
   ]
  },
  {
   "cell_type": "code",
   "execution_count": 12,
   "id": "a6eceb3f-4d62-4c1a-8505-4a0b119eff64",
   "metadata": {
    "tags": []
   },
   "outputs": [],
   "source": [
    "%matplotlib inline\n",
    "import sys\n",
    "import os\n",
    "helpers_path = os.path.abspath('../')\n",
    "if helpers_path not in sys.path:\n",
    "    sys.path.append(helpers_path)\n",
    "\n",
    "import numpy as np\n",
    "import matplotlib.pyplot as plt\n",
    "from tqdm import tqdm\n",
    "from utils import Kernel\n",
    "\n",
    "from online_kernels.klms import KLMS\n",
    "from online_kernels.knlms import KNLMS\n",
    "from online_kernels.krls import KRLS\n",
    "from online_kernels.klmsRFF import klms_rff\n",
    "from online_kernels.knlmsRFF import knlms_rff\n",
    "from online_kernels.krlsRFF import krls_rff\n",
    "\n",
    "from data.datasets import load_dodd\n",
    "from sklearn.utils import shuffle\n",
    "from scipy.optimize import nnls"
   ]
  },
  {
   "cell_type": "code",
   "execution_count": 269,
   "id": "4af09356-53ad-4be7-9bb8-028b7ff24f72",
   "metadata": {},
   "outputs": [
    {
     "name": "stderr",
     "output_type": "stream",
     "text": [
      "100%|█████████████████████████████████████████| 100/100 [00:02<00:00, 40.40it/s]\n"
     ]
    },
    {
     "data": {
      "text/plain": [
       "Text(0.5, 0, 'iteration')"
      ]
     },
     "execution_count": 269,
     "metadata": {},
     "output_type": "execute_result"
    },
    {
     "data": {
      "image/png": "[encoded data removed]",
      "text/plain": [
       "<Figure size 1440x432 with 1 Axes>"
      ]
     },
     "metadata": {
      "needs_background": "light"
     },
     "output_type": "display_data"
    }
   ],
   "source": [
    "iteration = 100\n",
    "mse = np.zeros(iteration)\n",
    "# Kernel Dictionary size\n",
    "\n",
    "step_size = 0.08\n",
    "num_data=3000\n",
    "\n",
    "\n",
    "# N individuals\n",
    "N = 10 # mFea\n",
    "# L canonical models\n",
    "L = 30 # k\n",
    "D = 100 # p\n",
    "KLMS_RFF = klms_rff(step_size,D)\n",
    "num_experiments = 1\n",
    "C = np.abs(np.random.rand(L,N)) # membership weight matrix W\n",
    "A = np.random.rand(D,L) # B\n",
    "u,d,d_true = load_dodd(num_data)\n",
    "kernel = Kernel(3.73)\n",
    "sigma = 1/np.sqrt(2*kernel.sigma)\n",
    "W = (1/sigma) * np.random.normal(size=(2,D))\n",
    "b = np.random.uniform(0,2*np.pi,(D,1))\n",
    "h = np.sqrt(2/D) * np.cos(W.T @ u.T + b)\n",
    "K = []\n",
    "\n",
    "\n",
    "for n in tqdm(range(iteration)):\n",
    "    Y_hat = []\n",
    "    Y = []\n",
    "    err = 0\n",
    "    # Learning A gived fixed Cs (Least Squares)\n",
    "    B = np.zeros((D,N))\n",
    "    m = 0\n",
    "    for i in range(N):\n",
    "#         m_i = np.random.randint(1,10)  # nSmp\n",
    "        m_i = 100\n",
    "        m += m_i\n",
    "        K_i = np.zeros((D,m_i))\n",
    "        Y_i = np.zeros((m_i,))\n",
    "        c_i = C.T[i]\n",
    "        for samples in range(m_i):\n",
    "            v = np.random.randint(len(d))\n",
    "            h_n = h[:,v].reshape((D,1))\n",
    "            d_n = np.array([d[v]])\n",
    "            K_i.T[samples] = h_n.reshape((D,))\n",
    "            Y_i[samples] = d_n\n",
    "            if samples > 0:\n",
    "                alpha_in = alpha_out\n",
    "            else:\n",
    "                alpha_in = (A @ c_i).reshape((D,1))\n",
    "            _,alpha_out = KLMS_RFF.train(h_n,d_n,alpha_in)\n",
    "#             print('alpha',alpha_out)\n",
    "        K.append(K_i)\n",
    "        Y.append(Y_i)\n",
    "#         Y_i_hat = K_i.T @ A @ c_i\n",
    "        \n",
    "        B.T[i] = alpha_out.reshape((D,))\n",
    "    A_hat,_,_,_ = np.linalg.lstsq(C.T, B.T,rcond=None)\n",
    "#     TODO: use non-negative least squares optimization\n",
    "#     A_hat,_ = nnls(C.T, B.T)     \n",
    "    A = A_hat.T\n",
    "\n",
    "    # Learning C given the A are fixed\n",
    "    for i in range(N):\n",
    "        y_i = Y[i]\n",
    "        AK = A.T @ K[i]\n",
    "        AKy = AK @ y_i\n",
    "        AKKAc = AK @ AK.T @ C.T[i]\n",
    "        for k in range(L):\n",
    "            C[k][i] = np.multiply(C[k][i],np.divide(AKy[k],AKKAc[k]))\n",
    "            \n",
    "        Y_hat.append(K[i].T @ A @ C.T[i])  \n",
    "\n",
    "        err+=np.mean(np.square(Y[i] - Y_hat[i]))/N \n",
    "\n",
    "    mse[n] = err\n",
    "plt.figure(figsize=(2*10, 6))\n",
    "plt.semilogy(range(len(mse)),mse,label=\"KLMS\")\n",
    "plt.legend()\n",
    "# plt.ylim([1e-2,1e0])\n",
    "plt.xlim([0,1000])\n",
    "plt.ylabel(\"MSE\")\n",
    "plt.xlabel(\"iteration\")"
   ]
  },
  {
   "cell_type": "code",
   "execution_count": 144,
   "id": "0c1e31fb-0cb0-46e8-86be-961211fd762a",
   "metadata": {
    "jupyter": {
     "source_hidden": true
    },
    "tags": []
   },
   "outputs": [
    {
     "ename": "SyntaxError",
     "evalue": "invalid syntax (3653499060.py, line 41)",
     "output_type": "error",
     "traceback": [
      "\u001b[0;36m  File \u001b[0;32m\"/var/folders/jw/wg30js3108n731h_w_zpf3zw0000gn/T/ipykernel_1505/3653499060.py\"\u001b[0;36m, line \u001b[0;32m41\u001b[0m\n\u001b[0;31m    C =\u001b[0m\n\u001b[0m        ^\u001b[0m\n\u001b[0;31mSyntaxError\u001b[0m\u001b[0;31m:\u001b[0m invalid syntax\n"
     ]
    }
   ],
   "source": [
    "iteration = 1\n",
    "# N individuals\n",
    "N = 10\n",
    "# p features\n",
    "p = 2\n",
    "# K canonical models (personalized learning systems)\n",
    "K = 5\n",
    "# L \n",
    "L = 3\n",
    "# Kernel Dictionary size\n",
    "D = 50\n",
    "num_experiments = 1\n",
    "C = np.ones((K,N))\n",
    "A = np.zeros((D,K))\n",
    "# u,d,d_true = load_dodd(num_data)\n",
    "\n",
    "# W = (1/sigma) * np.random.normal(size=(2,D))\n",
    "# b = np.random.uniform(0,2*np.pi,(D,1))\n",
    "# h = np.sqrt(2/D) * np.cos(W.T @ u.T + b)\n",
    "\n",
    "for i in tqdm(range(iteration)):\n",
    "#     v = np.random.randint(len(d))\n",
    "    \n",
    "    for edge in range(N):\n",
    "        # Learning A gived fixed Cs (Least Squares)  \n",
    "            # Convert c to C\n",
    "        C_i = np.append(C.T[edge],np.zeros((K*(p-1))))\n",
    "        for k in range(p-1):\n",
    "            C_i = np.vstack((C_i,np.roll(np.append(C.T[edge],np.zeros((K*(p-1)))),K*(k+1))))\n",
    "\n",
    "        # Learn C given the A are fixed (Difficult)\n",
    "        # This is an iteration process (nonconvex)\n",
    "\n",
    "\n",
    "\n",
    "        # Calculate a\n",
    "\n",
    "        # Convert a to A\n",
    "\n",
    "        # Calculate C\n",
    "        C = "
   ]
  },
  {
   "cell_type": "code",
   "execution_count": null,
   "id": "9acca021-9691-46ef-bcce-02ab7f707c87",
   "metadata": {},
   "outputs": [],
   "source": []
  }
 ],
 "metadata": {
  "kernelspec": {
   "display_name": "Python 3 (ipykernel)",
   "language": "python",
   "name": "python3"
  },
  "language_info": {
   "codemirror_mode": {
    "name": "ipython",
    "version": 3
   },
   "file_extension": ".py",
   "mimetype": "text/x-python",
   "name": "python",
   "nbconvert_exporter": "python",
   "pygments_lexer": "ipython3",
   "version": "3.9.1"
  }
 },
 "nbformat": 4,
 "nbformat_minor": 5
}
