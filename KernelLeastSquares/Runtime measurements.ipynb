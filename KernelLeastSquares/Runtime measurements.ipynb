{
 "cells": [
  {
   "cell_type": "code",
   "execution_count": 1,
   "metadata": {},
   "outputs": [],
   "source": [
    "import time\n",
    "import numpy as np\n",
    "\n",
    "from knlms import *\n",
    "from krls import *\n",
    "from klms import *\n",
    "from klms_rff import *"
   ]
  },
  {
   "cell_type": "code",
   "execution_count": 12,
   "metadata": {},
   "outputs": [],
   "source": [
    "num_experiments = 25\n",
    "gauss_kernel = lambda u_i,u_j: np.exp(-3.73 * (np.linalg.norm(u_i - u_j,ord=2)**2))\n",
    "kernel = gauss_kernel\n",
    "step_size = 0.09\n",
    "reg_coeff = 0.03\n",
    "threshold = 0.5"
   ]
  },
  {
   "cell_type": "code",
   "execution_count": 9,
   "metadata": {},
   "outputs": [],
   "source": [
    "num_data = 3000\n",
    "\n",
    "def generate_data(num_data):\n",
    "    # AWGN\n",
    "    v = 0.1*np.random.normal(0,1,num_data+2) \n",
    "\n",
    "    # Initial conditions\n",
    "    d_true =[0.1 , 0.1]\n",
    "    d = [d_true[0] + v[0], d_true[1] + v[1]]\n",
    "\n",
    "    # Grab new data\n",
    "    new_d_true = lambda d: d.append((0.8 - 0.5 * np.exp(-(d[-1]**2)))*d[-1] - (0.3 + 0.9*np.exp(-(d[-1]**2)))*d[-2] + 0.1*np.sin(np.pi*d[-1]))\n",
    "    for i in range(2,num_data+2):\n",
    "        new_d_true(d_true)\n",
    "        d.append(d_true[-1] + v[i])\n",
    "\n",
    "    u = np.hstack((np.array(d[0:num_data]).reshape(num_data,1),np.array(d[1:num_data+1]).reshape(num_data,1)))\n",
    "    d_true = d_true[2::]\n",
    "    d = d[2::]\n",
    "    return np.array(u), np.array(d),np.array(d_true)"
   ]
  },
  {
   "cell_type": "code",
   "execution_count": 16,
   "metadata": {},
   "outputs": [],
   "source": [
    "time_dataKNLMS = np.array([])\n",
    "time_dataRFFKNLMS = np.array([])"
   ]
  },
  {
   "cell_type": "code",
   "execution_count": 50,
   "metadata": {},
   "outputs": [
    {
     "name": "stdout",
     "output_type": "stream",
     "text": [
      "3.346184015274048\n",
      "3.4121181964874268\n",
      "3.4400954246520996\n",
      "3.309471607208252\n",
      "3.4457788467407227\n",
      "3.2351748943328857\n",
      "3.2072277069091797\n",
      "3.4709842205047607\n",
      "3.725843906402588\n",
      "3.2342653274536133\n",
      "3.319391965866089\n",
      "3.7712855339050293\n",
      "3.171212673187256\n",
      "3.7928338050842285\n",
      "3.5570740699768066\n",
      "3.4195616245269775\n",
      "3.5125858783721924\n",
      "3.49715256690979\n",
      "3.3619542121887207\n",
      "4.426346778869629\n",
      "4.1938066482543945\n",
      "3.4499568939208984\n",
      "3.641465187072754\n",
      "3.4512171745300293\n",
      "3.6479086875915527\n"
     ]
    }
   ],
   "source": [
    "numExipraments = 25\n",
    "endTime = 0\n",
    "\n",
    "for i in range(0,numExipraments):\n",
    "    u,d,d_true = generate_data(num_data)\n",
    "    \n",
    "    start_KNLMS = time.time()\n",
    "    err_KNLMS = KNLMS(u,d,kernel,step_size,reg_coeff,0.5)\n",
    "    endTime = (time.time() - start_KNLMS)\n",
    "    print(endTime)\n",
    "    np.append(time_dataKNLMS,endTime)\n",
    "    \n",
    "    start_RFFKNLMS = time.time()\n",
    "    err_RFFKNLMS = KLMS_RFF(u,d,kernel,step_size,20)\n",
    "    np.append(time_dataRFFKNLMS,time.time() - start_RFFKNLMS)"
   ]
  },
  {
   "cell_type": "code",
   "execution_count": 34,
   "metadata": {},
   "outputs": [
    {
     "data": {
      "text/plain": [
       "[<matplotlib.lines.Line2D at 0x1f07d665040>]"
      ]
     },
     "execution_count": 34,
     "metadata": {},
     "output_type": "execute_result"
    },
    {
     "data": {
      "image/png": "[encoded data removed]",
      "text/plain": [
       "<Figure size 720x432 with 1 Axes>"
      ]
     },
     "metadata": {
      "needs_background": "light"
     },
     "output_type": "display_data"
    }
   ],
   "source": [
    "plt.figure(figsize=(10, 6))\n",
    "plt.semilogy(range(len(time_dataKNLMS)),time_dataKNLMS, label='KNLMS')\n",
    "plt.semilogy(range(len(time_dataRFFKNLMS)),time_dataRFFKNLMS, label='KRLS')"
   ]
  },
  {
   "cell_type": "code",
   "execution_count": 61,
   "metadata": {},
   "outputs": [],
   "source": [
    "for i in range(len(time_dataRFFKNLMS)):\n",
    "    print(time_dataKNLMS[i])"
   ]
  }
 ],
 "metadata": {
  "kernelspec": {
   "display_name": "Python 3",
   "language": "python",
   "name": "python3"
  },
  "language_info": {
   "codemirror_mode": {
    "name": "ipython",
    "version": 3
   },
   "file_extension": ".py",
   "mimetype": "text/x-python",
   "name": "python",
   "nbconvert_exporter": "python",
   "pygments_lexer": "ipython3",
   "version": "3.9.1"
  }
 },
 "nbformat": 4,
 "nbformat_minor": 4
}
