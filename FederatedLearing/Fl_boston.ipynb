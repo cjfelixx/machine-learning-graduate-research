{
 "cells": [
  {
   "cell_type": "markdown",
   "id": "6fd94ded-3486-46ad-a93a-ea25f6bbce36",
   "metadata": {},
   "source": [
    "## Federated Learning using Boston dataset"
   ]
  },
  {
   "cell_type": "code",
   "execution_count": 55,
   "id": "8217c3e9-e6d8-4ce8-8709-ba4f458bfb6e",
   "metadata": {},
   "outputs": [
    {
     "name": "stdout",
     "output_type": "stream",
     "text": [
      "Number of processors:  8\n"
     ]
    }
   ],
   "source": [
    "%matplotlib inline\n",
    "\n",
    "import numpy as np\n",
    "import matplotlib.pyplot as plt\n",
    "from tqdm import tqdm\n",
    "from kernel import Kernel\n",
    "\n",
    "from onlineKernels.klmsRFF import *\n",
    "from onlineKernels.knlmsRFF import *\n",
    "from onlineKernels.krlsRFF import *\n",
    "\n",
    "from klms import *\n",
    "\n",
    "from fl_sync import fl_sync\n",
    "from fl_async import fl_async\n",
    "from cent_learn import cent_learn\n",
    "# Multiprocessing\n",
    "import multiprocessing as mp\n",
    "print(\"Number of processors: \", mp.cpu_count())\n",
    "\n",
    "from sklearn.datasets import fetch_california_housing\n",
    "from sklearn.utils import shuffle"
   ]
  },
  {
   "cell_type": "code",
   "execution_count": 56,
   "id": "0418a594-be51-49d8-8a64-8adf418b9888",
   "metadata": {},
   "outputs": [],
   "source": [
    "u,d = fetch_california_housing(return_X_y=True)\n",
    "u,d = shuffle(u, d)"
   ]
  },
  {
   "cell_type": "code",
   "execution_count": 57,
   "id": "2f0f2ae0-2f6f-4ffa-8025-e96302c0249a",
   "metadata": {},
   "outputs": [
    {
     "name": "stdout",
     "output_type": "stream",
     "text": [
      "[ 8.30140000e+00  2.10000000e+01  6.23813708e+00  9.71880492e-01\n",
      "  2.40100000e+03  2.10984183e+00  3.78600000e+01 -1.22220000e+02]\n"
     ]
    }
   ],
   "source": [
    "print(X[1])"
   ]
  },
  {
   "cell_type": "code",
   "execution_count": 124,
   "id": "3aa013fe-e6eb-49c4-8b8c-3a492f22854b",
   "metadata": {},
   "outputs": [
    {
     "name": "stderr",
     "output_type": "stream",
     "text": [
      "100%|█████████████████████████████████| 3/3 [00:09<00:00,  3.10s/it]\n"
     ]
    },
    {
     "data": {
      "text/plain": [
       "<matplotlib.legend.Legend at 0x7f942fd8caf0>"
      ]
     },
     "execution_count": 124,
     "metadata": {},
     "output_type": "execute_result"
    },
    {
     "data": {
      "image/png": "[encoded data removed]",
      "text/plain": [
       "<Figure size 504x432 with 1 Axes>"
      ]
     },
     "metadata": {
      "needs_background": "light"
     },
     "output_type": "display_data"
    }
   ],
   "source": [
    "step_size = 0.8\n",
    "reg_coeff = 0.1\n",
    "threshold = 0.5\n",
    "kernel = Kernel(1e-4)\n",
    "# Federated learning: Synchronous updating rule\n",
    "plt.figure(figsize=(7, 6))\n",
    "\n",
    "K = 10 # K edge clients\n",
    "c =  np.ones(K).reshape(K,1)/K # edge weighting\n",
    "D = 200 # Dictionary size\n",
    "L = [200]\n",
    "iteration = 40000\n",
    "num_experiments = 3\n",
    "\n",
    "step_size = 0.9\n",
    "KLMS_RFF = klms_rff(step_size,D)\n",
    "# KLMS_RFF = KLMS(u,d,kernel,step_size,threshold,alpha_0=np.array(0).reshape(1,1))\n",
    "KLMS_RFF_cent = klms_rff(0.2,D)\n",
    "KNLMS_RFF = knlms_rff(step_size,reg_coeff,D)\n",
    "KRLS_RFF = krls_rff(D)\n",
    "for l in L:\n",
    "    amse = np.zeros(iteration)\n",
    "    amse_cent = np.zeros(iteration)\n",
    "    for epoch in tqdm(range(num_experiments)):\n",
    "\n",
    "        # Process data and kernel\n",
    "        sigma = 1/np.sqrt(2*kernel.sigma)\n",
    "        W = (1/sigma) * np.random.normal(size=(8,D))\n",
    "        b = np.random.uniform(0,2*np.pi,(D,1))\n",
    "        h = np.sqrt(2/D) * np.cos(W.T @ u.T + b)\n",
    "        \n",
    "        mse_cent = cent_learn(iteration,K,KLMS_RFF_cent,h,u,d)\n",
    "        amse_cent += mse_cent/num_experiments\n",
    "        mse = fl_sync(iteration,K,KLMS_RFF,h,u,d,l)\n",
    "        amse += mse/num_experiments\n",
    "\n",
    "    plt.semilogy(range(len(amse)),amse,label=\"l=\" + str(l))\n",
    "plt.semilogy(range(len(amse_cent)),amse_cent,label=\"centralized\")\n",
    "plt.legend()\n",
    "# plt.ylim([1e2,1e0])\n",
    "# plt.xlim([0,3000])"
   ]
  },
  {
   "cell_type": "code",
   "execution_count": 125,
   "id": "2746cc9e-55a6-40bb-81d8-7a9223458134",
   "metadata": {},
   "outputs": [
    {
     "data": {
      "text/plain": [
       "array([1.3315503 , 1.3315503 , 1.3315503 , ..., 1.28173854, 1.28173854,\n",
       "       1.28173854])"
      ]
     },
     "execution_count": 125,
     "metadata": {},
     "output_type": "execute_result"
    }
   ],
   "source": [
    "amse"
   ]
  },
  {
   "cell_type": "code",
   "execution_count": 126,
   "id": "2e35dd26-e036-4257-b79a-5cfde1efa0b4",
   "metadata": {},
   "outputs": [
    {
     "data": {
      "text/plain": [
       "array([5.67868643, 5.57062433, 5.51627921, ..., 1.21023909, 1.20876241,\n",
       "       1.20983007])"
      ]
     },
     "execution_count": 126,
     "metadata": {},
     "output_type": "execute_result"
    }
   ],
   "source": [
    "amse_cent"
   ]
  },
  {
   "cell_type": "code",
   "execution_count": null,
   "id": "9777ae8d-e232-4c96-bca7-94ce1563abf7",
   "metadata": {},
   "outputs": [],
   "source": []
  }
 ],
 "metadata": {
  "kernelspec": {
   "display_name": "Python 3 (ipykernel)",
   "language": "python",
   "name": "python3"
  },
  "language_info": {
   "codemirror_mode": {
    "name": "ipython",
    "version": 3
   },
   "file_extension": ".py",
   "mimetype": "text/x-python",
   "name": "python",
   "nbconvert_exporter": "python",
   "pygments_lexer": "ipython3",
   "version": "3.9.1"
  }
 },
 "nbformat": 4,
 "nbformat_minor": 5
}
