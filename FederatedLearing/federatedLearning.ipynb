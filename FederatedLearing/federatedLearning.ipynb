{
 "cells": [
  {
   "cell_type": "markdown",
   "id": "597eb1a4-55af-4a8c-b000-581bbafd3bc3",
   "metadata": {},
   "source": [
    "# Federated Learning"
   ]
  },
  {
   "cell_type": "code",
   "execution_count": 1,
   "id": "88a7b5cb-341c-4a9b-b05a-5e6c03a4c9ae",
   "metadata": {},
   "outputs": [
    {
     "name": "stdout",
     "output_type": "stream",
     "text": [
      "Number of processors:  8\n"
     ]
    }
   ],
   "source": [
    "%matplotlib inline\n",
    "\n",
    "import numpy as np\n",
    "import matplotlib.pyplot as plt\n",
    "from tqdm import tqdm\n",
    "from kernel import Kernel\n",
    "\n",
    "from onlineKernels.klmsRFF import *\n",
    "from onlineKernels.knlmsRFF import *\n",
    "from onlineKernels.krlsRFF import *\n",
    "from fl_sync import fl_sync\n",
    "from cent_learn import cent_learn\n",
    "# Multiprocessing\n",
    "import multiprocessing as mp\n",
    "print(\"Number of processors: \", mp.cpu_count())"
   ]
  },
  {
   "cell_type": "code",
   "execution_count": 2,
   "id": "fd94ff4d-5adc-424e-9532-8683becc50ae",
   "metadata": {},
   "outputs": [
    {
     "name": "stdout",
     "output_type": "stream",
     "text": [
      "-0.09822739590038487\n"
     ]
    }
   ],
   "source": [
    "def generate_data(num_data):\n",
    "    # AWGN\n",
    "    v = 0.1*np.random.normal(size=num_data+2) \n",
    "\n",
    "    # Initial conditions\n",
    "    d_true =[0.1 , 0.1]\n",
    "    d = [d_true[0], d_true[1]]\n",
    "\n",
    "    # Grab new data\n",
    "    new_d_true = lambda d: d.append((0.8 - 0.5 * np.exp(-(d[-1]**2)))*d[-1] - (0.3 + 0.9*np.exp(-(d[-1]**2)))*d[-2] + 0.1*np.sin(np.pi*d[-1]))\n",
    "    for i in range(2,num_data+2):\n",
    "        new_d_true(d_true)\n",
    "        d.append(d_true[-1] + v[i])\n",
    "\n",
    "    u = np.hstack((np.array(d[0:num_data]).reshape(num_data,1),np.array(d[1:num_data+1]).reshape(num_data,1)))\n",
    "    d_true = d_true[2::]\n",
    "    d = d[2::]\n",
    "    return np.array(u),np.array(d),np.array(d_true)\n",
    "\n",
    "# Parameters\n",
    "num_data = 3000\n",
    "kernel = Kernel(3.73)\n",
    "\n",
    "step_size = 0.8\n",
    "reg_coeff = 0.1\n",
    "\n",
    "u,d,d_true = generate_data(num_data)\n",
    "print(d[0])"
   ]
  },
  {
   "cell_type": "code",
   "execution_count": 14,
   "id": "79c88782-2701-42c7-b2e3-90f891311404",
   "metadata": {},
   "outputs": [
    {
     "name": "stderr",
     "output_type": "stream",
     "text": [
      "100%|███████████████████████████| 10/10 [00:04<00:00,  2.25it/s]\n"
     ]
    }
   ],
   "source": [
    "# Centralized method\n",
    "K = 10 # K edge clients\n",
    "c =  np.ones(K).reshape(K,1)/K # edge weighting\n",
    "D = 100 # Dictionary size\n",
    "l = 150\n",
    "num_experiments = 10\n",
    "iteration = 10000\n",
    "alpha_0 = np.zeros((D,1))\n",
    "alpha = alpha_0\n",
    "err = []\n",
    "step_size = 0.2\n",
    "KLMS_RFF = klms_rff(step_size,D)\n",
    "KNLMS_RFF = knlms_rff(step_size,reg_coeff,D)\n",
    "KRLS_RFF = krls_rff(D)\n",
    "\n",
    "amse_cent = np.zeros(iteration)\n",
    "# Process data and kernel\n",
    "for epoch in tqdm(range(num_experiments)):\n",
    "    u,d,d_true = generate_data(num_data)\n",
    "\n",
    "    mse_cent = np.zeros(iteration)\n",
    "    mse_cent[0] = np.var(d)\n",
    "    sigma = 1/np.sqrt(2*kernel.sigma)\n",
    "    W = (1/sigma) * np.random.normal(size=(2,D))\n",
    "\n",
    "    b = np.random.uniform(0,2*np.pi,(D,1))\n",
    "    h = np.sqrt(2/D) * np.cos(W.T @ u.T + b)\n",
    "    for n in range(1,iteration):\n",
    "\n",
    "        # Local updates\n",
    "        v = np.random.randint(0,num_data)\n",
    "        alpha_in = alpha\n",
    "        u_k = u[v]\n",
    "        h_k = h[:,v].reshape((D,1))\n",
    "        d_k = np.array([d[v]])\n",
    "    #     err = d_k - h_k.T @ alpha_in\n",
    "    #     alpha_step = alpha_in + step_size  * h_k * err\n",
    "        erri,alpha_step = KLMS_RFF.train(h_k,d_k,alpha_in)\n",
    "\n",
    "        alpha = alpha_step\n",
    "        mse_cent[n] = np.square(np.linalg.norm(d[-500::].reshape(500,1) - h.T[-500::] @ alpha))/500\n",
    "    amse_cent += mse_cent/num_experiments"
   ]
  },
  {
   "cell_type": "code",
   "execution_count": 4,
   "id": "8a19382c-d55a-45a6-9544-42379a7c10b7",
   "metadata": {},
   "outputs": [
    {
     "name": "stderr",
     "output_type": "stream",
     "text": [
      "100%|███████████████████████████| 10/10 [00:04<00:00,  2.29it/s]\n"
     ]
    }
   ],
   "source": [
    "# Centralized method\n",
    "K = 10 # K edge clients\n",
    "c =  np.ones(K).reshape(K,1)/K # edge weighting\n",
    "D = 100 # Dictionary size\n",
    "l = 150\n",
    "num_experiments = 10\n",
    "iteration = 10000\n",
    "alpha_0 = np.zeros((D,1))\n",
    "alpha = alpha_0\n",
    "err = []\n",
    "step_size = 0.2\n",
    "KLMS_RFF = klms_rff(step_size,D)\n",
    "KNLMS_RFF = knlms_rff(step_size,reg_coeff,D)\n",
    "KRLS_RFF = krls_rff(D)\n",
    "\n",
    "amse_cent = np.zeros(iteration)\n",
    "# Process data and kernel\n",
    "for epoch in tqdm(range(num_experiments)):\n",
    "    u,d,d_true = generate_data(num_data)\n",
    "    sigma = 1/np.sqrt(2*kernel.sigma)\n",
    "    W = (1/sigma) * np.random.normal(size=(2,D))\n",
    "    b = np.random.uniform(0,2*np.pi,(D,1))\n",
    "    h = np.sqrt(2/D) * np.cos(W.T @ u.T + b)\n",
    "    mse_cent = cent_learn(iteration,K,KLMS_RFF,h,u,d)\n",
    "    amse_cent += mse_cent/num_experiments"
   ]
  },
  {
   "cell_type": "code",
   "execution_count": 5,
   "id": "ea2a1bf1-70ba-4b5d-b43a-acd308c27d44",
   "metadata": {},
   "outputs": [
    {
     "name": "stderr",
     "output_type": "stream",
     "text": [
      "100%|███████████████████████████| 10/10 [00:02<00:00,  3.83it/s]\n"
     ]
    },
    {
     "data": {
      "text/plain": [
       "(0.0, 3000.0)"
      ]
     },
     "execution_count": 5,
     "metadata": {},
     "output_type": "execute_result"
    },
    {
     "data": {
      "image/png": "[encoded data removed]",
      "text/plain": [
       "<Figure size 504x432 with 1 Axes>"
      ]
     },
     "metadata": {
      "needs_background": "light"
     },
     "output_type": "display_data"
    }
   ],
   "source": [
    "# Federated learning: Synchronous updating rule\n",
    "plt.figure(figsize=(7, 6))\n",
    "\n",
    "K = 10 # K edge clients\n",
    "c =  np.ones(K).reshape(K,1)/K # edge weighting\n",
    "D = 100 # Dictionary size\n",
    "# l = [20, 100, 150]\n",
    "l = 100\n",
    "iteration = 10000\n",
    "num_experiments = 10\n",
    "\n",
    "step_size = 0.8\n",
    "KLMS_RFF = klms_rff(step_size,D)\n",
    "KNLMS_RFF = knlms_rff(step_size,reg_coeff,D)\n",
    "KRLS_RFF = krls_rff(D)\n",
    "\n",
    "amse = np.zeros(iteration)\n",
    "for epoch in tqdm(range(num_experiments)):\n",
    "\n",
    "    # Process data and kernel\n",
    "    u,d,d_true = generate_data(num_data)\n",
    "    sigma = 1/np.sqrt(2*kernel.sigma)\n",
    "    W = (1/sigma) * np.random.normal(size=(2,D))\n",
    "    b = np.random.uniform(0,2*np.pi,(D,1))\n",
    "    h = np.sqrt(2/D) * np.cos(W.T @ u.T + b)\n",
    "\n",
    "    mse = fl_sync(iteration,K,KLMS_RFF,h,u,d,l)\n",
    "    amse += mse/num_experiments\n",
    "\n",
    "plt.semilogy(range(len(amse)),amse,label=\"p=\" + str(l))\n",
    "plt.semilogy(range(len(amse_cent)),amse_cent)\n",
    "plt.legend()\n",
    "plt.ylim([1e-2,1e0])\n",
    "plt.xlim([0,3000])"
   ]
  },
  {
   "cell_type": "code",
   "execution_count": 18,
   "id": "1fac3c58-3480-429d-a7e6-93d546026038",
   "metadata": {},
   "outputs": [
    {
     "name": "stderr",
     "output_type": "stream",
     "text": [
      "  0%|                                                 | 0/10000 [00:00<?, ?it/s]\n"
     ]
    },
    {
     "ename": "TypeError",
     "evalue": "'klms_rff' object is not callable",
     "output_type": "error",
     "traceback": [
      "\u001b[0;31m---------------------------------------------------------------------------\u001b[0m",
      "\u001b[0;31mTypeError\u001b[0m                                 Traceback (most recent call last)",
      "\u001b[0;32m/var/folders/jw/wg30js3108n731h_w_zpf3zw0000gn/T/ipykernel_1359/502385795.py\u001b[0m in \u001b[0;36m<module>\u001b[0;34m\u001b[0m\n\u001b[1;32m     34\u001b[0m \u001b[0;31m#     err = d_k - h_k.T @ alpha_in\u001b[0m\u001b[0;34m\u001b[0m\u001b[0;34m\u001b[0m\u001b[0;34m\u001b[0m\u001b[0m\n\u001b[1;32m     35\u001b[0m \u001b[0;31m#     alpha_step = alpha_in + step_size  * h_k * err\u001b[0m\u001b[0;34m\u001b[0m\u001b[0;34m\u001b[0m\u001b[0;34m\u001b[0m\u001b[0m\n\u001b[0;32m---> 36\u001b[0;31m     \u001b[0m_\u001b[0m\u001b[0;34m,\u001b[0m\u001b[0malpha_step\u001b[0m \u001b[0;34m=\u001b[0m \u001b[0mKLMS_RFF\u001b[0m\u001b[0;34m(\u001b[0m\u001b[0mu_k\u001b[0m\u001b[0;34m,\u001b[0m\u001b[0md_k\u001b[0m\u001b[0;34m,\u001b[0m\u001b[0mh_k\u001b[0m\u001b[0;34m,\u001b[0m\u001b[0mstep_size\u001b[0m\u001b[0;34m,\u001b[0m\u001b[0mD\u001b[0m\u001b[0;34m,\u001b[0m\u001b[0malpha_0\u001b[0m\u001b[0;34m=\u001b[0m\u001b[0malpha_in\u001b[0m\u001b[0;34m)\u001b[0m\u001b[0;34m\u001b[0m\u001b[0;34m\u001b[0m\u001b[0m\n\u001b[0m\u001b[1;32m     37\u001b[0m \u001b[0;34m\u001b[0m\u001b[0m\n\u001b[1;32m     38\u001b[0m     \u001b[0malphas\u001b[0m\u001b[0;34m[\u001b[0m\u001b[0medge\u001b[0m\u001b[0;34m]\u001b[0m \u001b[0;34m=\u001b[0m \u001b[0malpha_step\u001b[0m\u001b[0;34m.\u001b[0m\u001b[0mT\u001b[0m\u001b[0;34m\u001b[0m\u001b[0;34m\u001b[0m\u001b[0m\n",
      "\u001b[0;31mTypeError\u001b[0m: 'klms_rff' object is not callable"
     ]
    }
   ],
   "source": [
    "# Federated learning: Asynchronous updating rule\n",
    "K = 10 # K edge clients\n",
    "c =  np.ones(K).reshape(K,1)/K # edge weighting\n",
    "D = 100 # Dictionary size\n",
    "l = 10\n",
    "iteration = 10000\n",
    "\n",
    "final_mse = []\n",
    "\n",
    "# Process data and kernel\n",
    "u,d,d_true = generate_data(num_data)\n",
    "\n",
    "mse = [np.var(d)]\n",
    "sigma = 1/np.sqrt(2*kernel.sigma)\n",
    "W = (1/sigma) * np.random.normal(loc=0, scale=1.0, size=(2,D))\n",
    "b = np.random.uniform(0,2*np.pi,(D,1))\n",
    "h = np.sqrt(2/D) * np.cos(W.T @ u.T + b)\n",
    "\n",
    "alpha_0 = np.zeros((D,1))\n",
    "alpha = alpha_0\n",
    "alphas = np.zeros((K,D))\n",
    "last_alphas = alphas.copy()\n",
    "edge_count = [ 0 for i in range(K)]\n",
    "for n in tqdm(range(iteration)):\n",
    "\n",
    "    # Local updates\n",
    "    v = np.random.randint(num_data)\n",
    "    edge = np.random.randint(K)\n",
    "    edge_count[edge] += 1\n",
    "    alpha_in = alphas[edge].reshape((D,1))\n",
    "    u_k = u[v]\n",
    "    h_k = h[:,v].reshape((D,1))\n",
    "    d_k = np.array([d[v]])\n",
    "#     err = d_k - h_k.T @ alpha_in\n",
    "#     alpha_step = alpha_in + step_size  * h_k * err\n",
    "    _,alpha_step = KLMS_RFF(u_k,d_k,h_k,step_size,D,alpha_0=alpha_in)\n",
    "\n",
    "    alphas[edge] = alpha_step.T\n",
    "\n",
    "    # Global update\n",
    "    if edge_count[edge] % l == 0 and n>1:\n",
    "        alpha += (alphas[edge] - last_alphas[edge]).reshape((D,1))/l\n",
    "        alphas[edge] = alpha.reshape((D,))\n",
    "        last_alphas[edge] = alphas[edge]\n",
    "        mse.append(np.square(np.linalg.norm(d[-500::].reshape(500,1) - h.T[-500::] @ alpha))/500)\n",
    "        edge_count[edge] = 0\n",
    "    \n",
    "    elif n > 1:\n",
    "        mse.append(mse[-1])\n",
    "# final_mse.append(mse[0])\n",
    "\n",
    "plt.figure(figsize=(7, 6))\n",
    "plt.semilogy(range(len(mse)),mse)\n",
    "plt.ylim([1e-2,.6])\n",
    "# plt.xlim([0,3000])"
   ]
  },
  {
   "cell_type": "code",
   "execution_count": null,
   "id": "27c77849-5bf7-4fc7-9e51-0b66d3e23ad1",
   "metadata": {},
   "outputs": [],
   "source": []
  }
 ],
 "metadata": {
  "kernelspec": {
   "display_name": "Python 3 (ipykernel)",
   "language": "python",
   "name": "python3"
  },
  "language_info": {
   "codemirror_mode": {
    "name": "ipython",
    "version": 3
   },
   "file_extension": ".py",
   "mimetype": "text/x-python",
   "name": "python",
   "nbconvert_exporter": "python",
   "pygments_lexer": "ipython3",
   "version": "3.9.1"
  }
 },
 "nbformat": 4,
 "nbformat_minor": 5
}
