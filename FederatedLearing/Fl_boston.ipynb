{
 "cells": [
  {
   "cell_type": "markdown",
   "id": "6fd94ded-3486-46ad-a93a-ea25f6bbce36",
   "metadata": {},
   "source": [
    "## Federated Learning using Boston dataset"
   ]
  },
  {
   "cell_type": "code",
   "execution_count": 1,
   "id": "8217c3e9-e6d8-4ce8-8709-ba4f458bfb6e",
   "metadata": {},
   "outputs": [
    {
     "name": "stdout",
     "output_type": "stream",
     "text": [
      "Number of processors:  8\n"
     ]
    }
   ],
   "source": [
    "%matplotlib inline\n",
    "\n",
    "import numpy as np\n",
    "import matplotlib.pyplot as plt\n",
    "from tqdm import tqdm\n",
    "from utils import Kernel\n",
    "\n",
    "from onlineKernels.klmsRFF import *\n",
    "from onlineKernels.knlmsRFF import *\n",
    "from onlineKernels.krlsRFF import *\n",
    "\n",
    "from syncFL import fl_sync\n",
    "from asyncFL import fl_async\n",
    "from cent_learn import cent_learn\n",
    "\n",
    "# Multiprocessing\n",
    "import multiprocessing as mp\n",
    "print(\"Number of processors: \", mp.cpu_count())\n",
    "\n",
    "from sklearn.datasets import fetch_california_housing\n",
    "from sklearn.utils import shuffle"
   ]
  },
  {
   "cell_type": "code",
   "execution_count": 2,
   "id": "0418a594-be51-49d8-8a64-8adf418b9888",
   "metadata": {},
   "outputs": [],
   "source": [
    "u,d = fetch_california_housing(return_X_y=True)\n",
    "u,d = shuffle(u, d)"
   ]
  },
  {
   "cell_type": "code",
   "execution_count": 8,
   "id": "3aa013fe-e6eb-49c4-8b8c-3a492f22854b",
   "metadata": {},
   "outputs": [
    {
     "name": "stderr",
     "output_type": "stream",
     "text": [
      "100%|███████████████████████████████████████████| 10/10 [00:12<00:00,  1.29s/it]\n",
      "100%|███████████████████████████████████████████| 10/10 [00:12<00:00,  1.26s/it]\n",
      "100%|███████████████████████████████████████████| 10/10 [00:12<00:00,  1.25s/it]\n"
     ]
    },
    {
     "data": {
      "text/plain": [
       "<matplotlib.legend.Legend at 0x7f8e7c843d60>"
      ]
     },
     "execution_count": 8,
     "metadata": {},
     "output_type": "execute_result"
    },
    {
     "data": {
      "image/png": "[encoded data removed]",
      "text/plain": [
       "<Figure size 504x432 with 1 Axes>"
      ]
     },
     "metadata": {
      "needs_background": "light"
     },
     "output_type": "display_data"
    }
   ],
   "source": [
    "step_size = 0.8\n",
    "reg_coeff = 0.1\n",
    "threshold = 0.5\n",
    "kernel = Kernel(1e-4)\n",
    "# Federated learning: Synchronous updating rule\n",
    "plt.figure(figsize=(7, 6))\n",
    "\n",
    "K = 10 # K edge clients\n",
    "c =  np.ones(K).reshape(K,1)/K # edge weighting\n",
    "D = 200 # Dictionary size\n",
    "L = [50,100,200]\n",
    "iteration = 10000\n",
    "num_experiments = 10\n",
    "\n",
    "step_size = 0.9\n",
    "KLMS_RFF = klms_rff(step_size,D)\n",
    "# KLMS_RFF = KLMS(u,d,kernel,step_size,threshold,alpha_0=np.array(0).reshape(1,1))\n",
    "KLMS_RFF_cent = klms_rff(0.2,D)\n",
    "KNLMS_RFF = knlms_rff(step_size,reg_coeff,D)\n",
    "KRLS_RFF = krls_rff(D)\n",
    "for l in L:\n",
    "    amse = np.zeros(iteration)\n",
    "    amse_cent = np.zeros(iteration)\n",
    "    for epoch in tqdm(range(num_experiments)):\n",
    "\n",
    "        # Process data and kernel\n",
    "        sigma = 1/np.sqrt(2*kernel.sigma)\n",
    "        W = (1/sigma) * np.random.normal(size=(8,D))\n",
    "        b = np.random.uniform(0,2*np.pi,(D,1))\n",
    "        h = np.sqrt(2/D) * np.cos(W.T @ u.T + b)\n",
    "        \n",
    "        FLsync = fl_sync(K,h,l)\n",
    "        \n",
    "        mse_cent = cent_learn(iteration,K,KLMS_RFF_cent,h,u,d)\n",
    "        amse_cent += mse_cent/num_experiments\n",
    "        mse = FLsync.train(iteration,KLMS_RFF,u,d)\n",
    "        amse += mse/num_experiments\n",
    "\n",
    "    plt.semilogy(range(len(amse)),amse,label=\"l=\" + str(l))\n",
    "plt.semilogy(range(len(amse_cent)),amse_cent,label=\"centralized\")\n",
    "plt.legend()\n",
    "# plt.ylim([1e2,1e0])\n",
    "# plt.xlim([0,3000])"
   ]
  },
  {
   "cell_type": "code",
   "execution_count": null,
   "id": "9777ae8d-e232-4c96-bca7-94ce1563abf7",
   "metadata": {},
   "outputs": [
    {
     "name": "stderr",
     "output_type": "stream",
     "text": [
      "100%|███████████████████████████████████████████| 10/10 [00:12<00:00,  1.29s/it]\n",
      "100%|███████████████████████████████████████████| 10/10 [00:12<00:00,  1.26s/it]\n",
      "  0%|                                                    | 0/10 [00:00<?, ?it/s]"
     ]
    }
   ],
   "source": [
    "step_size = 0.8\n",
    "reg_coeff = 0.1\n",
    "threshold = 0.5\n",
    "kernel = Kernel(1e-4)\n",
    "# Federated learning: Synchronous updating rule\n",
    "plt.figure(figsize=(7, 6))\n",
    "\n",
    "K = 10 # K edge clients\n",
    "c =  np.ones(K).reshape(K,1)/K # edge weighting\n",
    "D = 200 # Dictionary size\n",
    "P = [10,15,20]\n",
    "iteration = 10000\n",
    "num_experiments = 10\n",
    "\n",
    "step_size = 0.9\n",
    "KLMS_RFF = klms_rff(step_size,D)\n",
    "# KLMS_RFF = KLMS(u,d,kernel,step_size,threshold,alpha_0=np.array(0).reshape(1,1))\n",
    "KLMS_RFF_cent = klms_rff(0.2,D)\n",
    "KNLMS_RFF = knlms_rff(step_size,reg_coeff,D)\n",
    "KRLS_RFF = krls_rff(D)\n",
    "for p in P:\n",
    "    amse = np.zeros(iteration)\n",
    "    amse_cent = np.zeros(iteration)\n",
    "    for epoch in tqdm(range(num_experiments)):\n",
    "\n",
    "        # Process data and kernel\n",
    "        sigma = 1/np.sqrt(2*kernel.sigma)\n",
    "        W = (1/sigma) * np.random.normal(size=(8,D))\n",
    "        b = np.random.uniform(0,2*np.pi,(D,1))\n",
    "        h = np.sqrt(2/D) * np.cos(W.T @ u.T + b)\n",
    "        \n",
    "        FLasync = fl_async(K,h,p)\n",
    "        \n",
    "        mse_cent = cent_learn(iteration,K,KLMS_RFF_cent,h,u,d)\n",
    "        amse_cent += mse_cent/num_experiments\n",
    "        mse = FLasync.train(iteration,KLMS_RFF,u,d)\n",
    "        amse += mse/num_experiments\n",
    "\n",
    "    plt.semilogy(range(len(amse)),amse,label=\"p=\" + str(p))\n",
    "plt.semilogy(range(len(amse_cent)),amse_cent,label=\"centralized\")\n",
    "plt.legend()\n",
    "# plt.ylim([1e2,1e0])\n",
    "# plt.xlim([0,3000])"
   ]
  },
  {
   "cell_type": "code",
   "execution_count": null,
   "id": "a828e5ed-d839-469d-96db-ee3aabeb7056",
   "metadata": {},
   "outputs": [],
   "source": []
  }
 ],
 "metadata": {
  "kernelspec": {
   "display_name": "Python 3 (ipykernel)",
   "language": "python",
   "name": "python3"
  },
  "language_info": {
   "codemirror_mode": {
    "name": "ipython",
    "version": 3
   },
   "file_extension": ".py",
   "mimetype": "text/x-python",
   "name": "python",
   "nbconvert_exporter": "python",
   "pygments_lexer": "ipython3",
   "version": "3.9.1"
  }
 },
 "nbformat": 4,
 "nbformat_minor": 5
}
