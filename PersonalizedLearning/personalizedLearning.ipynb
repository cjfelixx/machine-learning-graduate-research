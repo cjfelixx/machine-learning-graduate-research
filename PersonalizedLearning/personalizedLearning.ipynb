{
 "cells": [
  {
   "cell_type": "markdown",
   "id": "79131048-295d-49df-b2d5-89a599597d05",
   "metadata": {},
   "source": [
    "## Collaborative/Personalized Learning"
   ]
  },
  {
   "cell_type": "code",
   "execution_count": 4,
   "id": "a6eceb3f-4d62-4c1a-8505-4a0b119eff64",
   "metadata": {},
   "outputs": [],
   "source": [
    "%matplotlib inline\n",
    "import sys\n",
    "import os\n",
    "helpers_path = os.path.abspath('../')\n",
    "if helpers_path not in sys.path:\n",
    "    sys.path.append(helpers_path)\n",
    "\n",
    "import numpy as np\n",
    "import matplotlib.pyplot as plt\n",
    "from tqdm import tqdm\n",
    "from utils import Kernel\n",
    "\n",
    "from online_kernels.klms import KLMS\n",
    "from online_kernels.knlms import KNLMS\n",
    "from online_kernels.krls import KRLS\n",
    "from online_kernels.klmsRFF import klms_rff\n",
    "from online_kernels.knlmsRFF import knlms_rff\n",
    "from online_kernels.krlsRFF import krls_rff\n",
    "\n",
    "from data.datasets import load_dodd\n",
    "from sklearn.utils import shuffle"
   ]
  },
  {
   "cell_type": "code",
   "execution_count": 7,
   "id": "0c1e31fb-0cb0-46e8-86be-961211fd762a",
   "metadata": {},
   "outputs": [
    {
     "name": "stderr",
     "output_type": "stream",
     "text": [
      "100%|██████████| 10/10 [00:00<00:00, 21366.81it/s]"
     ]
    },
    {
     "name": "stdout",
     "output_type": "stream",
     "text": [
      "0\n",
      "1\n",
      "2\n",
      "3\n",
      "4\n",
      "5\n",
      "6\n",
      "7\n",
      "8\n",
      "9\n"
     ]
    },
    {
     "name": "stderr",
     "output_type": "stream",
     "text": [
      "\n"
     ]
    }
   ],
   "source": [
    "iteration = 10\n",
    "# K individuals (personalized learning systems)\n",
    "K = 12\n",
    "# L Canonical models (Edge)\n",
    "L = 3\n",
    "# Kernel Dictionary size\n",
    "D = 50\n",
    "num_experiments = 1\n",
    "C = np.zeros((K,N))\n",
    "c = np.zeros((N,1))\n",
    "A = np.zeros((K,D))\n",
    "a = np.zeros((D,1))\n",
    "u,d,d_true = load_dodd(num_data)\n",
    "\n",
    "W = (1/sigma) * np.random.normal(size=(2,D))\n",
    "b = np.random.uniform(0,2*np.pi,(D,1))\n",
    "h = np.sqrt(2/D) * np.cos(W.T @ u.T + b)\n",
    "for i in tqdm(range(1,iteration)):\n",
    "    v = np.random.randint(len(d))\n",
    "    edge = np.random.randint(K)\n",
    "\n",
    "    # Learning A gived fixed Cs (Least Squares)\n",
    "\n",
    "    # Learn C given the A are fixed (Difficult)\n",
    "    # This is an iteration process (nonconvex)\n",
    "\n",
    "    # Convert c to C\n",
    "    \n",
    "    # Calculate a\n",
    "    \n",
    "    # Convert a to A\n",
    "    \n",
    "    # Calculate C"
   ]
  },
  {
   "cell_type": "code",
   "execution_count": null,
   "id": "fc92a751",
   "metadata": {},
   "outputs": [],
   "source": []
  }
 ],
 "metadata": {
  "kernelspec": {
   "display_name": "Python 3 (ipykernel)",
   "language": "python",
   "name": "python3"
  },
  "language_info": {
   "codemirror_mode": {
    "name": "ipython",
    "version": 3
   },
   "file_extension": ".py",
   "mimetype": "text/x-python",
   "name": "python",
   "nbconvert_exporter": "python",
   "pygments_lexer": "ipython3",
   "version": "3.9.1"
  }
 },
 "nbformat": 4,
 "nbformat_minor": 5
}
