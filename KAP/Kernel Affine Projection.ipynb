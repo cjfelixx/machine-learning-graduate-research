{
 "cells": [
  {
   "cell_type": "markdown",
   "metadata": {},
   "source": [
    "For the Kernel Affine Projection algorithm. We initialize the discrete-time non-linear system through \n",
    "\n",
    "v_n = 1.1exp(-|v_n-1|) + u_n\n",
    "\n",
    "with the desired output d_n being\n",
    "\n",
    "d_n = v_n^2\n",
    "\n",
    "For initialization, we initialize u_n from a zero-mean Guassian distribution  with standard deviation 0.25."
   ]
  },
  {
   "cell_type": "code",
   "execution_count": 64,
   "metadata": {},
   "outputs": [
    {
     "data": {
      "text/plain": [
       "-0.4840520115335717"
      ]
     },
     "execution_count": 64,
     "metadata": {},
     "output_type": "execute_result"
    }
   ],
   "source": [
    "import numpy as np\n",
    "import math as m\n",
    "\n",
    "sigma = 0.25\n",
    "\n",
    "np.random.normal(0,sigma)"
   ]
  },
  {
   "cell_type": "markdown",
   "metadata": {},
   "source": [
    "For our kernel function, we will be using a modified Guassian kernel described as\n",
    "\n",
    "k(ui,uj) = exp(-||ui - uj||/ b0)\n",
    "\n",
    "for a varied optimized b0 from 0.1 to 1 in increments of 0.005"
   ]
  },
  {
   "cell_type": "code",
   "execution_count": 108,
   "metadata": {},
   "outputs": [],
   "source": [
    "def KAPgaussianKernel(a,b):\n",
    "    b0 = 0.25\n",
    "    print(\"A\",a)\n",
    "    print(\"B\",b)\n",
    "    return np.exp(np.linalg.norm(a-b)**2 / b0)\n"
   ]
  },
  {
   "cell_type": "code",
   "execution_count": 109,
   "metadata": {},
   "outputs": [],
   "source": [
    "def kerfineAffineProj(inp,out,size,mu,regularity,cohere,p1):\n",
    "    # initialize dictionary\n",
    "    dictionary = np.array(inp[1])\n",
    "    dictionarySize = 1\n",
    "    \n",
    "    # now initialize the kernel with the dictionary\n",
    "    ker = KAPgaussianKernel(dictionary,dictionary)\n",
    "    \n",
    "    # coherence of the dictionary\n",
    "    cohDict = np.array(np.sqrt(ker))\n",
    "    \n",
    "    # initialize alpha\n",
    "    alpha = np.array(out[0] / ker)\n",
    "    \n",
    "    # filtering loop\n",
    "    \n",
    "    for i in range(0,100):\n",
    "        # grabbing u\n",
    "        u = inp[i]\n",
    "        pointProject = KAPgaussianKernel(dictionary,u)\n",
    "        cohNew = KAPgaussianKernel(u,u)\n",
    "        \n",
    "        coherenceSpace = pointProject / np.sqrt(cohNew) * cohDict\n",
    "        \n",
    "        # if the new point is below coherence threshold\n",
    "        if(np.amax(np.absolute(coherenceSpace)) < cohere):\n",
    "            # add point to dictionary\n",
    "            dictionary = np.append(dictionary,u)\n",
    "            cohDict = np.append(cohDict, cohNew)\n",
    "            dictionarySize = dictionarySize + 1\n",
    "            \n",
    "            # increase size of alpha to accomodate new size\n",
    "            alpha = np.append(alpha,0)\n",
    "        \n",
    "        # compute H matrix\n",
    "        # https://stackoverflow.com/questions/4647368/how-do-i-reverse-a-part-slice-of-a-list-in-python\n",
    "        H = KAPgaussianKernel(dictionary,np.flipud(inp[i:max(i-size+3,2)]))\n",
    "        D = np.flipud(out[i:max(i-size+1,1)])\n",
    "        print(dictionary)\n",
    "        print(H)\n",
    "        print(alpha)\n",
    "        # print(inp[i:max(i-size+3,2)])\n",
    "        print(H @ alpha)\n",
    "        E = D - H @ alpha\n",
    "        \n",
    "        # recalculating alpha\n",
    "        alpha = np.append(alpha,alpha + mu * H.transpose() @ np.linalg.inv(H @ H.transpose() + regularity*np.identity(len(D))) @ E)\n",
    "        print(alpha)\n",
    "               "
   ]
  },
  {
   "cell_type": "code",
   "execution_count": 67,
   "metadata": {},
   "outputs": [],
   "source": [
    "end = 500\n",
    "\n",
    "un = np.random.normal(0,sigma,end)\n",
    "v0 = 0.5\n",
    "v1 = 1.1 * m.exp(v0) + un[0]\n",
    "\n",
    "\n",
    "\n",
    "noise = np.random.normal(0,1,end)\n",
    "\n",
    "d0 = v0 ** 2\n",
    "d1 = v1 ** 2\n",
    "\n",
    "v = np.array([v0,v1])\n",
    "dground = np.array(d0,d1)\n",
    "d = dground + noise[0:1]\n",
    "\n",
    "# initializing the function with the first 500 samples\n",
    "for i in range(2,end):\n",
    "    v = np.append(v,1.1 * np.exp(- np.absolute(v[i-1])) + un[i])\n",
    "    "
   ]
  },
  {
   "cell_type": "code",
   "execution_count": 110,
   "metadata": {},
   "outputs": [
    {
     "name": "stdout",
     "output_type": "stream",
     "text": [
      "A 2.0545525292327707\n",
      "B 2.0545525292327707\n",
      "A 2.0545525292327707\n",
      "B 0.5\n",
      "A 0.5\n",
      "B 0.5\n",
      "A 2.0545525292327707\n",
      "B [2.05455253 0.5       ]\n",
      "2.0545525292327707\n",
      "15780.56288541872\n",
      "0.7761842135140389\n"
     ]
    },
    {
     "ename": "ValueError",
     "evalue": "matmul: Input operand 0 does not have enough dimensions (has 0, gufunc core with signature (n?,k),(k,m?)->(n?,m?) requires 1)",
     "output_type": "error",
     "traceback": [
      "\u001b[0;31m---------------------------------------------------------------------------\u001b[0m",
      "\u001b[0;31mValueError\u001b[0m                                Traceback (most recent call last)",
      "\u001b[0;32m/tmp/ipykernel_8262/1905865517.py\u001b[0m in \u001b[0;36m<module>\u001b[0;34m\u001b[0m\n\u001b[0;32m----> 1\u001b[0;31m \u001b[0mprint\u001b[0m\u001b[0;34m(\u001b[0m\u001b[0mkerfineAffineProj\u001b[0m\u001b[0;34m(\u001b[0m\u001b[0mv\u001b[0m\u001b[0;34m,\u001b[0m\u001b[0md\u001b[0m\u001b[0;34m,\u001b[0m\u001b[0;36m2\u001b[0m\u001b[0;34m,\u001b[0m\u001b[0;36m0.003\u001b[0m\u001b[0;34m,\u001b[0m\u001b[0;36m0.0009\u001b[0m\u001b[0;34m,\u001b[0m\u001b[0;36m0.3\u001b[0m\u001b[0;34m,\u001b[0m\u001b[0;36m0.35\u001b[0m\u001b[0;34m)\u001b[0m\u001b[0;34m)\u001b[0m\u001b[0;34m\u001b[0m\u001b[0;34m\u001b[0m\u001b[0m\n\u001b[0m",
      "\u001b[0;32m/tmp/ipykernel_8262/4208788801.py\u001b[0m in \u001b[0;36mkerfineAffineProj\u001b[0;34m(inp, out, size, mu, regularity, cohere, p1)\u001b[0m\n\u001b[1;32m     41\u001b[0m         \u001b[0mprint\u001b[0m\u001b[0;34m(\u001b[0m\u001b[0malpha\u001b[0m\u001b[0;34m)\u001b[0m\u001b[0;34m\u001b[0m\u001b[0;34m\u001b[0m\u001b[0m\n\u001b[1;32m     42\u001b[0m         \u001b[0;31m# print(inp[i:max(i-size+3,2)])\u001b[0m\u001b[0;34m\u001b[0m\u001b[0;34m\u001b[0m\u001b[0;34m\u001b[0m\u001b[0m\n\u001b[0;32m---> 43\u001b[0;31m         \u001b[0mprint\u001b[0m\u001b[0;34m(\u001b[0m\u001b[0mH\u001b[0m \u001b[0;34m@\u001b[0m \u001b[0malpha\u001b[0m\u001b[0;34m)\u001b[0m\u001b[0;34m\u001b[0m\u001b[0;34m\u001b[0m\u001b[0m\n\u001b[0m\u001b[1;32m     44\u001b[0m         \u001b[0mE\u001b[0m \u001b[0;34m=\u001b[0m \u001b[0mD\u001b[0m \u001b[0;34m-\u001b[0m \u001b[0mH\u001b[0m \u001b[0;34m@\u001b[0m \u001b[0malpha\u001b[0m\u001b[0;34m\u001b[0m\u001b[0;34m\u001b[0m\u001b[0m\n\u001b[1;32m     45\u001b[0m \u001b[0;34m\u001b[0m\u001b[0m\n",
      "\u001b[0;31mValueError\u001b[0m: matmul: Input operand 0 does not have enough dimensions (has 0, gufunc core with signature (n?,k),(k,m?)->(n?,m?) requires 1)"
     ]
    }
   ],
   "source": [
    "print(kerfineAffineProj(v,d,2,0.003,0.0009,0.3,0.35))"
   ]
  },
  {
   "cell_type": "code",
   "execution_count": 16,
   "metadata": {},
   "outputs": [
    {
     "name": "stdout",
     "output_type": "stream",
     "text": [
      "0.24499999999999997\n"
     ]
    }
   ],
   "source": [
    "x = 0.5\n",
    "2 * m.exp(x)\n",
    "\n"
   ]
  }
 ],
 "metadata": {
  "kernelspec": {
   "display_name": "Python 3 (ipykernel)",
   "language": "python",
   "name": "python3"
  },
  "language_info": {
   "codemirror_mode": {
    "name": "ipython",
    "version": 3
   },
   "file_extension": ".py",
   "mimetype": "text/x-python",
   "name": "python",
   "nbconvert_exporter": "python",
   "pygments_lexer": "ipython3",
   "version": "3.8.8"
  }
 },
 "nbformat": 4,
 "nbformat_minor": 4
}
