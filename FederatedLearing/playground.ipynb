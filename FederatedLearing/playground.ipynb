{
 "cells": [
  {
   "cell_type": "code",
   "execution_count": 2,
   "id": "b24b3a4e",
   "metadata": {},
   "outputs": [],
   "source": [
    "%matplotlib inline\n",
    "\n",
    "import numpy as np\n",
    "import matplotlib.pyplot as plt\n",
    "from tqdm import tqdm\n",
    "import time\n",
    "from knlms import *\n",
    "from knlms_rff import *\n",
    "from kernel import Kernel"
   ]
  },
  {
   "cell_type": "code",
   "execution_count": 3,
   "id": "ea7d9400",
   "metadata": {},
   "outputs": [],
   "source": [
    "num_data = 3000\n",
    "\n",
    "def generate_data(num_data):\n",
    "    # AWGN\n",
    "    v = 0.1*np.random.normal(0,1,num_data+2) \n",
    "\n",
    "    # Initial conditions\n",
    "    d_true =[0.1 , 0.1]\n",
    "    d = [d_true[0] + v[0], d_true[1] + v[1]]\n",
    "\n",
    "    # Grab new data\n",
    "    new_d_true = lambda d: d.append((0.8 - 0.5 * np.exp(-(d[-1]**2)))*d[-1] - (0.3 + 0.9*np.exp(-(d[-1]**2)))*d[-2] + 0.1*np.sin(np.pi*d[-1]))\n",
    "    for i in range(2,num_data+2):\n",
    "        new_d_true(d_true)\n",
    "        d.append(d_true[-1] + v[i])\n",
    "\n",
    "    u = np.hstack((np.array(d[0:num_data]).reshape(num_data,1),np.array(d[1:num_data+1]).reshape(num_data,1)))\n",
    "    d_true = d_true[2::]\n",
    "    d = d[2::]\n",
    "    return np.array(u), np.array(d),np.array(d_true)\n",
    "generate_data(num_data)\n",
    "num_experiments = 1\n",
    "kernel = Kernel(3.73)\n",
    "step_size = 0.09\n",
    "reg_coeff = 0.03\n",
    "threshold = 0.5"
   ]
  },
  {
   "cell_type": "code",
   "execution_count": null,
   "id": "b5b069c3-bac3-42dc-a6b5-209fe308d87f",
   "metadata": {},
   "outputs": [],
   "source": [
    "num_experiments = 25\n",
    "D = 100\n",
    "# Experiment\n",
    "mse_KNLMS = np.zeros(num_data)\n",
    "mse_KNLMS_RFF = np.zeros(num_data)\n",
    "\n",
    "for i in tqdm(range(num_experiments)):\n",
    "#     print('experiment',i+1)\n",
    "    u,d,d_true = generate_data(num_data)\n",
    "    \n",
    "    err_KNLMS,_,_ = KNLMS(u,d,kernel,step_size,threshold,0.5)\n",
    "    mse_KNLMS += ((np.array(d_true) - np.array(d) + err_KNLMS)**2)/num_experiments\n",
    "    err_KNLMS_RFF,_,_ = KNLMS_RFF(u,d,kernel,step_size,0.5,D,alpha_0=np.zeros((D,1)))\n",
    "    mse_KNLMS_RFF += ((np.array(d_true) - np.array(d) + err_KNLMS_RFF)**2)/num_experiments\n",
    "    \n",
    "mse_KNLMS_smooth = np.convolve(mse_KNLMS,np.ones(20)/20,'valid')\n",
    "mse_KNLMS_RFF_smooth = np.convolve(mse_KNLMS_RFF,np.ones(20)/20,'valid')\n",
    "\n",
    "plt.figure(figsize=(10, 6))\n",
    "plt.semilogy(range(len(mse_KNLMS_smooth)),mse_KNLMS_smooth, label='KLMS')\n",
    "plt.semilogy(range(len(mse_KNLMS_RFF_smooth)),mse_KNLMS_RFF_smooth, label='KLMS')\n",
    "plt.ylim([0.005,1e0])\n",
    "plt.xlim([0,3000])\n",
    "plt.legend()\n",
    "plt.show()"
   ]
  },
  {
   "cell_type": "code",
   "execution_count": 11,
   "id": "3656fc19",
   "metadata": {},
   "outputs": [
    {
     "name": "stderr",
     "output_type": "stream",
     "text": [
      "100%|███████████████████████████████████████████| 25/25 [00:23<00:00,  1.05it/s]\n"
     ]
    },
    {
     "data": {
      "image/png": "[encoded data removed]",
      "text/plain": [
       "<Figure size 720x432 with 1 Axes>"
      ]
     },
     "metadata": {
      "needs_background": "light"
     },
     "output_type": "display_data"
    }
   ],
   "source": [
    "import numpy as np\n",
    "D = 100\n",
    "step_size = 0.2\n",
    "reg_coeff = 0.03\n",
    "threshold = 0.5\n",
    "\n",
    "def KRLS(u,d,kernel,threshold,alpha_0=np.matrix(0).reshape(1,1),beta=1.0):\n",
    "\n",
    "    err = []\n",
    "    m = 1\n",
    "    dictionary = u[0].reshape(1,2)\n",
    "    h = kernel.fun(u[0],dictionary).reshape(1,1)\n",
    "    k = kernel.fun(u[0],u[0])\n",
    "    K_inv = np.matrix(1/k)\n",
    "\n",
    "    P = np.matrix(1)\n",
    "#     alpha = np.array(d[0]/k).reshape(1,1)\n",
    "    alpha = alpha_0\n",
    "    err.append((d[0] - h.T @ alpha).item())\n",
    "    for n in range(1, len(d)):\n",
    "        u_n = u[n].reshape(1,2)\n",
    "        k = kernel.fun(u_n,u_n)\n",
    "        h = np.array([kernel.fun(u_n,dictionary[j]) for j in range(len(dictionary))]).T.reshape(m,1)\n",
    "        a = K_inv @ h\n",
    "        delta = (k - h.T @ a).item()\n",
    "        err.append((d[n] - h.T @ alpha).item())\n",
    "        if delta > threshold:\n",
    "            dictionary = np.r_[dictionary, u_n]\n",
    "\n",
    "            K_inv_num = np.c_[delta*K_inv + a @ a.T,-a]\n",
    "            K_inv_den = np.c_[-a.T, 1]\n",
    "            K_inv = np.r_[K_inv_num,K_inv_den]\n",
    "            K_inv = K_inv/delta\n",
    "\n",
    "            P_num = np.c_[P,np.zeros((m,1))]\n",
    "            P_den = np.c_[np.zeros((m,1)).T, 1]\n",
    "            P = np.r_[P_num,P_den]\n",
    "\n",
    "            alpha = np.array(alpha - ((a * err[-1])/delta)).reshape(m,1)\n",
    "            alpha = np.r_[alpha,[[err[-1]/delta]]]\n",
    "            m = m + 1\n",
    "        else:\n",
    "            P_a = P @ a\n",
    "            a_P_a = a.T @ P_a\n",
    "            q_t = (P_a)/(beta + a_P_a)\n",
    "            P = (P - ((P_a @ a.T @ P)/(beta + a_P_a)))/beta\n",
    "            alpha = alpha + K_inv @ q_t * err[-1]\n",
    "\n",
    "#     print('number of SVs',len(dictionary))\n",
    "    return err,h,alpha\n",
    "# Experiment\n",
    "mse = np.zeros(num_data)\n",
    "num_experiments = 25\n",
    "for ii in tqdm(range(num_experiments)):\n",
    "    u,d,d_true = generate_data(num_data)\n",
    "#     sigma = 1/np.sqrt(2*kernel.sigma)\n",
    "#     W = (1/sigma) * np.random.normal(loc=0, scale=sigma, size=(2,D))\n",
    "#     b = np.random.uniform(0,2*np.pi,D).reshape(D,1)\n",
    "#     h = np.sqrt(2/D) * np.cos(W.T @ u.T + b)\n",
    "\n",
    "#     startTime = time.time()\n",
    "    err,_,_ = KRLS(u,d,kernel,threshold)\n",
    "    mse = mse + (np.square((d_true - d) + err))/num_experiments\n",
    "\n",
    "mse_smooth = np.convolve(mse,np.ones(20)/20,'valid')\n",
    "plt.figure(figsize=(10, 6))\n",
    "plt.semilogy(range(len(mse_smooth)),mse_smooth)\n",
    "plt.ylim([0.005,1e0])\n",
    "plt.xlim([0,3000])\n",
    "plt.show()"
   ]
  },
  {
   "cell_type": "code",
   "execution_count": 5,
   "id": "b3ca8f6d-9973-45fd-b27b-8f92006e1693",
   "metadata": {},
   "outputs": [
    {
     "data": {
      "text/plain": [
       "-0.12411577643639983"
      ]
     },
     "execution_count": 5,
     "metadata": {},
     "output_type": "execute_result"
    }
   ],
   "source": []
  },
  {
   "cell_type": "code",
   "execution_count": 48,
   "id": "63158630",
   "metadata": {},
   "outputs": [
    {
     "data": {
      "text/plain": [
       "array([0.0033299 , 0.03037374, 0.00868982, ...,        nan,        nan,\n",
       "              nan])"
      ]
     },
     "execution_count": 48,
     "metadata": {},
     "output_type": "execute_result"
    }
   ],
   "source": [
    "def KRLS_RFF2(u,d,kernel,l,beta,D):\n",
    "\n",
    "    err = np.array([])\n",
    "\n",
    "    W = np.random.normal(loc=0, scale=2.25, size=(2,D))\n",
    "    b = np.random.uniform(0,2*np.pi,D).reshape(D,1)\n",
    "    \n",
    "    # Initalization\n",
    "    P = np.eye(D)/l\n",
    "    alpha = np.zeros((D,1))\n",
    "    for n in range(1, len(d)):\n",
    "        u_n = u[n].reshape(1,2)\n",
    "        d_n = d[n]\n",
    "        k = kernel(u_n,u_n)\n",
    "        h = np.sqrt(2/D) * np.cos(W.T @ u_n + b)\n",
    "        a = K_inv @ h\n",
    "        delta = (k - h.T @ a).item()\n",
    "        err = np.append(err,d_n - h.T @ alpha)\n",
    "        if delta > threshold:\n",
    "            dictionary = np.r_[dictionary, u_n]\n",
    "\n",
    "            K_inv_num = np.c_[delta*K_inv + a @ a.T,-a]\n",
    "            K_inv_den = np.c_[-a.T, 1]\n",
    "            K_inv = np.r_[K_inv_num,K_inv_den]\n",
    "            K_inv = K_inv/delta\n",
    "\n",
    "            P_num = np.c_[P,np.zeros((m,1))]\n",
    "            P_den = np.c_[np.zeros((m,1)).T, 1]\n",
    "            P = np.r_[P_num,P_den]\n",
    "\n",
    "            alpha = np.array(alpha - ((a * err[-1])/delta)).reshape(m,1)\n",
    "            alpha = np.r_[alpha,[[err[-1]/delta]]]\n",
    "            m = m + 1\n",
    "\n",
    "\n",
    "        q_t = (P @ a)/(1 + a.T @ P @ a)\n",
    "        P = P - ((P @ a @ a.T @ P)/(1 + a.T @ P @ a))\n",
    "\n",
    "        alpha = alpha + K_inv @ q_t * err[-1]\n",
    "\n",
    "#     print('number of SVs',len(dictionary))\n",
    "    return err\n",
    "\n",
    "# Experiment\n",
    "mse = np.zeros(num_data)\n",
    "\n",
    "for i in tqdm(range(num_experiments)):\n",
    "#     print('experiment',i+1)\n",
    "    u,d,d_true = generate_data(num_data)\n",
    "    startTime = time.time()\n",
    "    err = KRLS_RFF2(u,d,kernel,0.1,1,20)\n",
    "#     mse = mse + (((d_true - d) + err)**2)/num_experiments\n",
    "\n",
    "# mse_smooth = np.convolve(mse,np.ones(20)/20,'valid')"
   ]
  },
  {
   "cell_type": "code",
   "execution_count": null,
   "id": "2cbe4c98-3d95-43b1-b322-07d65e33c03b",
   "metadata": {},
   "outputs": [],
   "source": []
  }
 ],
 "metadata": {
  "kernelspec": {
   "display_name": "Python 3 (ipykernel)",
   "language": "python",
   "name": "python3"
  },
  "language_info": {
   "codemirror_mode": {
    "name": "ipython",
    "version": 3
   },
   "file_extension": ".py",
   "mimetype": "text/x-python",
   "name": "python",
   "nbconvert_exporter": "python",
   "pygments_lexer": "ipython3",
   "version": "3.9.1"
  }
 },
 "nbformat": 4,
 "nbformat_minor": 5
}
