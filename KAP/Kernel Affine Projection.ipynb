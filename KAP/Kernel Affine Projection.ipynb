{
 "cells": [
  {
   "cell_type": "markdown",
   "metadata": {},
   "source": [
    "For the Kernel Affine Projection algorithm. We initialize the discrete-time non-linear system through \n",
    "\n",
    "v_n 1.1exp(-|v_n-1|) + u_n\n",
    "\n",
    "with the desired output d_n being\n",
    "\n",
    "d_n = v_n^2\n",
    "\n",
    "For initialization, we initialize u_n from a zero-mean Guassian distribution  with standard deviation 0.25."
   ]
  },
  {
   "cell_type": "code",
   "execution_count": 1,
   "metadata": {},
   "outputs": [
    {
     "data": {
      "text/plain": [
       "0.11545860585888607"
      ]
     },
     "execution_count": 1,
     "metadata": {},
     "output_type": "execute_result"
    }
   ],
   "source": [
    "import numpy as np\n",
    "\n",
    "sigma = 0.25\n",
    "\n",
    "np.random.normal(0,sigma)"
   ]
  },
  {
   "cell_type": "markdown",
   "metadata": {},
   "source": [
    "For our kernel function, we will be using a modified Guassian kernel described as\n",
    "\n",
    "k(ui,uj) = exp(-||ui - uj||/ b0)\n",
    "\n",
    "for a varied optimized b0 from 0.1 to 1 in increments of 0.005"
   ]
  },
  {
   "cell_type": "code",
   "execution_count": null,
   "metadata": {},
   "outputs": [],
   "source": [
    "def KAPgaussianKernel(a,b):\n",
    "    b0 = 0.7\n",
    "    return np.linalg.norm(a-b) / b0"
   ]
  }
 ],
 "metadata": {
  "kernelspec": {
   "display_name": "Python 3",
   "language": "python",
   "name": "python3"
  },
  "language_info": {
   "codemirror_mode": {
    "name": "ipython",
    "version": 3
   },
   "file_extension": ".py",
   "mimetype": "text/x-python",
   "name": "python",
   "nbconvert_exporter": "python",
   "pygments_lexer": "ipython3",
   "version": "3.8.5"
  }
 },
 "nbformat": 4,
 "nbformat_minor": 4
}
